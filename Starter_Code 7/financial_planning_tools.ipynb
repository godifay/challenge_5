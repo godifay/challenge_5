{
 "cells": [
  {
   "cell_type": "markdown",
   "metadata": {},
   "source": [
    "# Financial Planning with APIs and Simulations\n",
    "\n",
    "In this Challenge, you’ll create two financial analysis tools by using a single Jupyter notebook:\n",
    "\n",
    "Part 1: A financial planner for emergencies. The members will be able to use this tool to visualize their current savings. The members can then determine if they have enough reserves for an emergency fund.\n",
    "\n",
    "Part 2: A financial planner for retirement. This tool will forecast the performance of their retirement portfolio in 30 years. To do this, the tool will make an Alpaca API call via the Alpaca SDK to get historical price data for use in Monte Carlo simulations.\n",
    "\n",
    "You’ll use the information from the Monte Carlo simulation to answer questions about the portfolio in your Jupyter notebook.\n",
    "\n"
   ]
  },
  {
   "cell_type": "code",
   "execution_count": 3,
   "metadata": {},
   "outputs": [],
   "source": [
    "# Import the required libraries and dependencies\n",
    "import os\n",
    "import requests\n",
    "import json\n",
    "import pandas as pd\n",
    "from dotenv import load_dotenv\n",
    "import alpaca_trade_api as tradeapi\n",
    "from MCForecastTools import MCSimulation\n",
    "import plotly\n",
    "%matplotlib inline"
   ]
  },
  {
   "cell_type": "code",
   "execution_count": 4,
   "metadata": {},
   "outputs": [
    {
     "data": {
      "text/plain": [
       "True"
      ]
     },
     "execution_count": 4,
     "metadata": {},
     "output_type": "execute_result"
    }
   ],
   "source": [
    "# Load the environment variables from the .env file\n",
    "#by calling the load_dotenv function\n",
    "load_dotenv()"
   ]
  },
  {
   "cell_type": "markdown",
   "metadata": {},
   "source": [
    "## Part 1: Create a Financial Planner for Emergencies"
   ]
  },
  {
   "cell_type": "markdown",
   "metadata": {},
   "source": [
    "### Evaluate the Cryptocurrency Wallet by Using the Requests Library\n",
    "\n",
    "In this section, you’ll determine the current value of a member’s cryptocurrency wallet. You’ll collect the current prices for the Bitcoin and Ethereum cryptocurrencies by using the Python Requests library. For the prototype, you’ll assume that the member holds the 1.2 Bitcoins (BTC) and 5.3 Ethereum coins (ETH). To do all this, complete the following steps:\n",
    "\n",
    "1. Create a variable named `monthly_income`, and set its value to `12000`.\n",
    "\n",
    "2. Use the Requests library to get the current price (in US dollars) of Bitcoin (BTC) and Ethereum (ETH) by using the API endpoints that the starter code supplies.\n",
    "\n",
    "3. Navigate the JSON response object to access the current price of each coin, and store each in a variable.\n",
    "\n",
    "    > **Hint** Note the specific identifier for each cryptocurrency in the API JSON response. The Bitcoin identifier is `1`, and the Ethereum identifier is `1027`.\n",
    "\n",
    "4. Calculate the value, in US dollars, of the current amount of each cryptocurrency and of the entire cryptocurrency wallet.\n",
    "\n"
   ]
  },
  {
   "cell_type": "code",
   "execution_count": 5,
   "metadata": {},
   "outputs": [],
   "source": [
    "# The current number of coins for each cryptocurrency asset held in the portfolio.\n",
    "btc_coins = 1.2\n",
    "eth_coins = 5.3"
   ]
  },
  {
   "cell_type": "markdown",
   "metadata": {},
   "source": [
    "#### Step 1: Create a variable named `monthly_income`, and set its value to `12000`."
   ]
  },
  {
   "cell_type": "code",
   "execution_count": 6,
   "metadata": {},
   "outputs": [],
   "source": [
    "# The monthly amount for the member's household income\n",
    "# YOUR CODE HERE\n",
    "monthly_income = 12000\n"
   ]
  },
  {
   "cell_type": "markdown",
   "metadata": {},
   "source": [
    "#### Review the endpoint URLs for the API calls to Free Crypto API in order to get the current pricing information for both BTC and ETH."
   ]
  },
  {
   "cell_type": "code",
   "execution_count": 7,
   "metadata": {},
   "outputs": [],
   "source": [
    "# The Free Crypto API Call endpoint URLs for the held cryptocurrency assets\n",
    "btc_url = \"https://api.alternative.me/v2/ticker/Bitcoin/?convert=USD\"\n",
    "eth_url = \"https://api.alternative.me/v2/ticker/Ethereum/?convert=USD\""
   ]
  },
  {
   "cell_type": "markdown",
   "metadata": {},
   "source": [
    "#### Step 2. Use the Requests library to get the current price (in US dollars) of Bitcoin (BTC) and Ethereum (ETH) by using the API endpoints that the starter code supplied."
   ]
  },
  {
   "cell_type": "code",
   "execution_count": 35,
   "metadata": {},
   "outputs": [
    {
     "name": "stdout",
     "output_type": "stream",
     "text": [
      "{\n",
      "   \"data\": {\n",
      "      \"1\": {\n",
      "         \"circulating_supply\": 18747250,\n",
      "         \"id\": 1,\n",
      "         \"last_updated\": 1625352593,\n",
      "         \"max_supply\": 21000000,\n",
      "         \"name\": \"Bitcoin\",\n",
      "         \"quotes\": {\n",
      "            \"USD\": {\n",
      "               \"market_cap\": 644883534135,\n",
      "               \"percent_change_1h\": -1.22328743133384,\n",
      "               \"percent_change_24h\": 2.30920025352259,\n",
      "               \"percent_change_7d\": 7.77991584285183,\n",
      "               \"percentage_change_1h\": -1.22328743133384,\n",
      "               \"percentage_change_24h\": 2.30920025352259,\n",
      "               \"percentage_change_7d\": 7.77991584285183,\n",
      "               \"price\": 34428.0,\n",
      "               \"volume_24h\": 22986947838\n",
      "            }\n",
      "         },\n",
      "         \"rank\": 1,\n",
      "         \"symbol\": \"BTC\",\n",
      "         \"total_supply\": 18747250,\n",
      "         \"website_slug\": \"bitcoin\"\n",
      "      }\n",
      "   },\n",
      "   \"metadata\": {\n",
      "      \"error\": null,\n",
      "      \"num_cryptocurrencies\": 1279,\n",
      "      \"timestamp\": 1625352593\n",
      "   }\n",
      "}\n"
     ]
    }
   ],
   "source": [
    "# Using the Python requests library, make an API call to access the current price of BTC\n",
    "#btc_response = # YOUR CODE HERE\n",
    "btc_response = requests.get(btc_url).json()\n",
    "type(btc_response)\n",
    "\n",
    "\n",
    "# Use the json.dumps function to review the response data from the API call\n",
    "# Use the indent and sort_keys parameters to make the response object readable\n",
    "# YOUR CODE HERE\n",
    "print(json.dumps(btc_response, indent=3, sort_keys=True))\n"
   ]
  },
  {
   "cell_type": "code",
   "execution_count": 39,
   "metadata": {
    "tags": []
   },
   "outputs": [
    {
     "name": "stdout",
     "output_type": "stream",
     "text": [
      "{\n",
      "   \"data\": {\n",
      "      \"1027\": {\n",
      "         \"circulating_supply\": 116547550,\n",
      "         \"id\": 1027,\n",
      "         \"last_updated\": 1625352885,\n",
      "         \"max_supply\": 0,\n",
      "         \"name\": \"Ethereum\",\n",
      "         \"quotes\": {\n",
      "            \"USD\": {\n",
      "               \"market_cap\": 256446081350,\n",
      "               \"percent_change_1h\": -0.899613892826791,\n",
      "               \"percent_change_24h\": 3.50523019484212,\n",
      "               \"percent_change_7d\": 20.3609308249574,\n",
      "               \"percentage_change_1h\": -0.899613892826791,\n",
      "               \"percentage_change_24h\": 3.50523019484212,\n",
      "               \"percentage_change_7d\": 20.3609308249574,\n",
      "               \"price\": 2206.77,\n",
      "               \"volume_24h\": 20036307064\n",
      "            }\n",
      "         },\n",
      "         \"rank\": 2,\n",
      "         \"symbol\": \"ETH\",\n",
      "         \"total_supply\": 116547550,\n",
      "         \"website_slug\": \"ethereum\"\n",
      "      }\n",
      "   },\n",
      "   \"metadata\": {\n",
      "      \"error\": null,\n",
      "      \"num_cryptocurrencies\": 1279,\n",
      "      \"timestamp\": 1625352885\n",
      "   }\n",
      "}\n"
     ]
    }
   ],
   "source": [
    "# Using the Python requests library, make an API call to access the current price ETH\n",
    "#eth_response = # YOUR CODE HERE\n",
    "eth_response = requests.get(eth_url).json()\n",
    "\n",
    "# Use the json.dumps function to review the response data from the API call\n",
    "# Use the indent and sort_keys parameters to make the response object readable\n",
    "# YOUR CODE HERE\n",
    "print(json.dumps(eth_response, indent=3, sort_keys=True))\n",
    "\n"
   ]
  },
  {
   "cell_type": "code",
   "execution_count": 37,
   "metadata": {},
   "outputs": [
    {
     "data": {
      "text/plain": [
       "dict"
      ]
     },
     "execution_count": 37,
     "metadata": {},
     "output_type": "execute_result"
    }
   ],
   "source": [
    "type(eth_response)"
   ]
  },
  {
   "cell_type": "markdown",
   "metadata": {},
   "source": [
    "#### Step 3: Navigate the JSON response object to access the current price of each coin, and store each in a variable."
   ]
  },
  {
   "cell_type": "code",
   "execution_count": 40,
   "metadata": {},
   "outputs": [
    {
     "data": {
      "text/plain": [
       "34428.0"
      ]
     },
     "execution_count": 40,
     "metadata": {},
     "output_type": "execute_result"
    }
   ],
   "source": [
    "btc_response['data']['1']['quotes']['USD']['price']"
   ]
  },
  {
   "cell_type": "code",
   "execution_count": 41,
   "metadata": {},
   "outputs": [
    {
     "name": "stdout",
     "output_type": "stream",
     "text": [
      "34428.0\n"
     ]
    }
   ],
   "source": [
    "# Navigate the BTC response object to access the current price of BTC\n",
    "btc_price = btc_response[\"data\"]['1'][\"quotes\"][\"USD\"][\"price\"]\n",
    "\n",
    "# Print the current price of BTC\n",
    "# YOUR CODE HERE\n",
    "print(btc_price)\n"
   ]
  },
  {
   "cell_type": "code",
   "execution_count": 42,
   "metadata": {},
   "outputs": [
    {
     "name": "stdout",
     "output_type": "stream",
     "text": [
      "2206.77\n"
     ]
    }
   ],
   "source": [
    "# Navigate the BTC response object to access the current price of ETH\n",
    "eth_price = eth_response[\"data\"]['1027'][\"quotes\"][\"USD\"][\"price\"]\n",
    "\n",
    "# Print the current price of ETH\n",
    "# YOUR CODE HERE\n",
    "print(eth_price)\n"
   ]
  },
  {
   "cell_type": "markdown",
   "metadata": {},
   "source": [
    "### Step 4: Calculate the value, in US dollars, of the current amount of each cryptocurrency and of the entire cryptocurrency wallet."
   ]
  },
  {
   "cell_type": "code",
   "execution_count": 13,
   "metadata": {},
   "outputs": [
    {
     "name": "stdout",
     "output_type": "stream",
     "text": [
      "41436.0\n"
     ]
    }
   ],
   "source": [
    "#1.2 Bitcoins (BTC) \n",
    "#5.3 Ethereum coins (ETH). To do all this, complete the following steps:\n",
    "btc_coins = 1.2\n",
    "eth_coins = 5.3\n",
    "\n",
    "# Compute the current value of the BTC holding \n",
    "\n",
    "\n",
    "btc_value = btc_price * btc_coins\n",
    "\n",
    "# Print current value of your holding in BTC\n",
    "# YOUR CODE HERE\n",
    "print(round(btc_value,2))\n"
   ]
  },
  {
   "cell_type": "code",
   "execution_count": 14,
   "metadata": {},
   "outputs": [
    {
     "name": "stdout",
     "output_type": "stream",
     "text": [
      "11638.38\n"
     ]
    }
   ],
   "source": [
    "# Compute the current value of the ETH holding \n",
    "eth_value = eth_price * eth_coins\n",
    "\n",
    "# Print current value of your holding in ETH\n",
    "# YOUR CODE HERE\n",
    "print( round(eth_value,2) )"
   ]
  },
  {
   "cell_type": "code",
   "execution_count": 15,
   "metadata": {},
   "outputs": [
    {
     "name": "stdout",
     "output_type": "stream",
     "text": [
      "53074 2\n"
     ]
    }
   ],
   "source": [
    "# Compute the total value of the cryptocurrency wallet\n",
    "# Add the value of the BTC holding to the value of the ETH holding\n",
    "total_crypto_wallet = btc_value + eth_value\n",
    "\n",
    "# Print current cryptocurrency wallet balance\n",
    "# YOUR CODE HERE\n",
    "print(round(total_crypto_wallet),2)\n"
   ]
  },
  {
   "cell_type": "markdown",
   "metadata": {},
   "source": [
    "### Evaluate the Stock and Bond Holdings by Using the Alpaca SDK\n",
    "\n",
    "In this section, you’ll determine the current value of a member’s stock and bond holdings. You’ll make an API call to Alpaca via the Alpaca SDK to get the current closing prices of the SPDR S&P 500 ETF Trust (ticker: SPY) and of the iShares Core US Aggregate Bond ETF (ticker: AGG). For the prototype, assume that the member holds 110 shares of SPY, which represents the stock portion of their portfolio, and 200 shares of AGG, which represents the bond portion. To do all this, complete the following steps:\n",
    "\n",
    "1. In the `Starter_Code` folder, create an environment file (`.env`) to store the values of your Alpaca API key and Alpaca secret key.\n",
    "\n",
    "2. Set the variables for the Alpaca API and secret keys. Using the Alpaca SDK, create the Alpaca `tradeapi.REST` object. In this object, include the parameters for the Alpaca API key, the secret key, and the version number.\n",
    "\n",
    "3. Set the following parameters for the Alpaca API call:\n",
    "\n",
    "    - `tickers`: Use the tickers for the member’s stock and bond holdings.\n",
    "\n",
    "    - `timeframe`: Use a time frame of one day.\n",
    "\n",
    "    - `start_date` and `end_date`: Use the same date for these parameters, and format them with the date of the previous weekday (or `2020-08-07`). This is because you want the one closing price for the most-recent trading day.\n",
    "\n",
    "4. Get the current closing prices for `SPY` and `AGG` by using the Alpaca `get_barset` function. Format the response as a Pandas DataFrame by including the `df` property at the end of the `get_barset` function.\n",
    "\n",
    "5. Navigating the Alpaca response DataFrame, select the `SPY` and `AGG` closing prices, and store them as variables.\n",
    "\n",
    "6. Calculate the value, in US dollars, of the current amount of shares in each of the stock and bond portions of the portfolio, and print the results.\n"
   ]
  },
  {
   "cell_type": "markdown",
   "metadata": {},
   "source": [
    "#### Review the total number of shares held in both (SPY) and (AGG)."
   ]
  },
  {
   "cell_type": "code",
   "execution_count": 27,
   "metadata": {},
   "outputs": [],
   "source": [
    "# Current amount of shares held in both the stock (SPY) and bond (AGG) portion of the portfolio.\n",
    "spy_shares = 110\n",
    "agg_shares = 200\n"
   ]
  },
  {
   "cell_type": "markdown",
   "metadata": {},
   "source": [
    "#### Step 1: In the `Starter_Code` folder, create an environment file (`.env`) to store the values of your Alpaca API key and Alpaca secret key."
   ]
  },
  {
   "cell_type": "markdown",
   "metadata": {},
   "source": [
    "#### Step 2: Set the variables for the Alpaca API and secret keys. Using the Alpaca SDK, create the Alpaca `tradeapi.REST` object. In this object, include the parameters for the Alpaca API key, the secret key, and the version number."
   ]
  },
  {
   "cell_type": "code",
   "execution_count": 61,
   "metadata": {},
   "outputs": [
    {
     "name": "stdout",
     "output_type": "stream",
     "text": [
      "__CFBundleIdentifier=com.apple.Terminal\n",
      "TMPDIR=/var/folders/bk/j_2w5vw174l6pg33t7ml4fsc0000gn/T/\n",
      "XPC_FLAGS=0x0\n",
      "LaunchInstanceID=01532AB6-0DB1-4D4D-8C1F-DCD98000A057\n",
      "TERM=xterm-color\n",
      "SSH_AUTH_SOCK=/private/tmp/com.apple.launchd.pDsqODQxxN/Listeners\n",
      "SECURITYSESSIONID=186aa\n",
      "XPC_SERVICE_NAME=0\n",
      "TERM_PROGRAM=Apple_Terminal\n",
      "TERM_PROGRAM_VERSION=440\n",
      "TERM_SESSION_ID=700E4E6F-3EE5-4D47-AB0B-1E79502313F8\n",
      "SHELL=/bin/zsh\n",
      "HOME=/Users/eliasgodifay\n",
      "LOGNAME=eliasgodifay\n",
      "USER=eliasgodifay\n",
      "PATH=/opt/anaconda3/bin:/opt/anaconda3/condabin:/usr/local/bin:/usr/bin:/bin:/usr/sbin:/sbin\n",
      "SHLVL=1\n",
      "PWD=/Users/eliasgodifay/Desktop/challenge_5/Starter_Code 7\n",
      "OLDPWD=/Users/eliasgodifay/Desktop/challenge_5/Starter_Code 7\n",
      "CONDA_EXE=/opt/anaconda3/bin/conda\n",
      "_CE_M=\n",
      "_CE_CONDA=\n",
      "CONDA_PYTHON_EXE=/opt/anaconda3/bin/python\n",
      "CONDA_SHLVL=1\n",
      "CONDA_PREFIX=/opt/anaconda3\n",
      "CONDA_DEFAULT_ENV=base\n",
      "CONDA_PROMPT_MODIFIER=(base) \n",
      "LANG=en_US.UTF-8\n",
      "JPY_PARENT_PID=1133\n",
      "__CF_USER_TEXT_ENCODING=0x1F5:0x0:0x0\n",
      "CLICOLOR=1\n",
      "PAGER=cat\n",
      "GIT_PAGER=cat\n",
      "MPLBACKEND=module://ipykernel.pylab.backend_inline\n",
      "__KMP_REGISTERED_LIB_1161=0x10543c168-cafe563b-libomp.dylib\n",
      "ALPACA_API_KEY=PK4IDTS6O7UHYLKRVZFI\n",
      "ALPACA_SECRET_KEY=8a2U4IKE4poqKYQnkmFkMRneKEJvCPu4tqYDQupx\n",
      "_=/usr/bin/printenv\n"
     ]
    }
   ],
   "source": [
    "!printenv"
   ]
  },
  {
   "cell_type": "code",
   "execution_count": 62,
   "metadata": {},
   "outputs": [
    {
     "data": {
      "text/plain": [
       "['.DS_Store',\n",
       " 'MCForecastTools.py',\n",
       " 'Images',\n",
       " 'Untitled.ipynb',\n",
       " '__pycache__',\n",
       " '.env',\n",
       " '.ipynb_checkpoints',\n",
       " 'financial_planning_tools.ipynb']"
      ]
     },
     "execution_count": 62,
     "metadata": {},
     "output_type": "execute_result"
    }
   ],
   "source": [
    "os.listdir()"
   ]
  },
  {
   "cell_type": "code",
   "execution_count": 20,
   "metadata": {},
   "outputs": [],
   "source": [
    "!source .env"
   ]
  },
  {
   "cell_type": "code",
   "execution_count": 63,
   "metadata": {
    "tags": []
   },
   "outputs": [
    {
     "name": "stdout",
     "output_type": "stream",
     "text": [
      "PK4IDTS6O7UHYLKRVZFI\n"
     ]
    }
   ],
   "source": [
    "alpaca_api_key = os.getenv('ALPACA_API_KEY')\n",
    "print(alpaca_api_key)"
   ]
  },
  {
   "cell_type": "code",
   "execution_count": 64,
   "metadata": {},
   "outputs": [
    {
     "name": "stdout",
     "output_type": "stream",
     "text": [
      "8a2U4IKE4poqKYQnkmFkMRneKEJvCPu4tqYDQupx\n"
     ]
    }
   ],
   "source": [
    "alpaca_secret_key = os.getenv('ALPACA_SECRET_KEY')\n",
    "print(alpaca_secret_key)"
   ]
  },
  {
   "cell_type": "code",
   "execution_count": 21,
   "metadata": {
    "tags": []
   },
   "outputs": [
    {
     "name": "stdout",
     "output_type": "stream",
     "text": [
      "PK4IDTS6O7UHYLKRVZFI\n",
      "8a2U4IKE4poqKYQnkmFkMRneKEJvCPu4tqYDQupx\n"
     ]
    }
   ],
   "source": [
    "alpaca_api_key = \"PK4IDTS6O7UHYLKRVZFI\"\n",
    "alpaca_secret_key =  \"8a2U4IKE4poqKYQnkmFkMRneKEJvCPu4tqYDQupx\"\n",
    "print(alpaca_api_key)\n",
    "print(alpaca_secret_key)\n",
    "\n"
   ]
  },
  {
   "cell_type": "code",
   "execution_count": 22,
   "metadata": {
    "tags": []
   },
   "outputs": [],
   "source": [
    "# Set the variables for the Alpaca API and secret keys\n",
    "# YOUR CODE HERE\n",
    "# YOUR CODE HERE\n",
    "\n",
    "# Create the Alpaca tradeapi.REST object\n",
    "# YOUR CODE HERE\n",
    "alpaca = tradeapi.REST(\n",
    "    alpaca_api_key,\n",
    "    alpaca_secret_key,\n",
    "    api_version=\"v2\")\n"
   ]
  },
  {
   "cell_type": "code",
   "execution_count": 42,
   "metadata": {},
   "outputs": [],
   "source": [
    "#dir(alpaca)"
   ]
  },
  {
   "cell_type": "markdown",
   "metadata": {},
   "source": [
    "#### Step 3: Set the following parameters for the Alpaca API call:\n",
    "\n",
    "- `tickers`: Use the tickers for the member’s stock and bond holdings.\n",
    "\n",
    "- `timeframe`: Use a time frame of one day.\n",
    "\n",
    "- `start_date` and `end_date`: Use the same date for these parameters, and format them with the date of the previous weekday (or `2020-08-07`). This is because you want the one closing price for the most-recent trading day.\n"
   ]
  },
  {
   "cell_type": "code",
   "execution_count": 43,
   "metadata": {},
   "outputs": [],
   "source": [
    "# Set the tickers for both the bond and stock portion of the portfolio\n",
    "# YOUR CODE HERE\n",
    "tickers = [\"SPY\", \"AGG\"]\n",
    "\n",
    "\n",
    "# Set timeframe to 1D \n",
    "# YOUR CODE HERE\n",
    "timeframe = \"1D\"\n",
    "\n",
    "\n",
    "# Format current date as ISO format\n",
    "# Set both the start and end date at the date of your prior weekday \n",
    "# This will give you the closing price of the previous trading day\n",
    "# Alternatively you can use a start and end date of 2020-08-07\n",
    "\n",
    "# YOUR CODE HERE\n",
    "today = pd.Timestamp(\"2020-08-07\", tz=\"America/New_York\").isoformat()\n",
    "# YOUR CODE HERE\n",
    "\n",
    "start_date = pd.Timestamp(\"2020-08-07\", tz=\"America/New_York\").isoformat()\n",
    "end_date = pd.Timestamp(\"2020-08-07\", tz=\"America/New_York\").isoformat()\n"
   ]
  },
  {
   "cell_type": "markdown",
   "metadata": {},
   "source": [
    "#### Step 4: Get the current closing prices for `SPY` and `AGG` by using the Alpaca `get_barset` function. Format the response as a Pandas DataFrame by including the `df` property at the end of the `get_barset` function."
   ]
  },
  {
   "cell_type": "code",
   "execution_count": 24,
   "metadata": {
    "tags": []
   },
   "outputs": [
    {
     "data": {
      "text/html": [
       "<div>\n",
       "<style scoped>\n",
       "    .dataframe tbody tr th:only-of-type {\n",
       "        vertical-align: middle;\n",
       "    }\n",
       "\n",
       "    .dataframe tbody tr th {\n",
       "        vertical-align: top;\n",
       "    }\n",
       "\n",
       "    .dataframe thead tr th {\n",
       "        text-align: left;\n",
       "    }\n",
       "\n",
       "    .dataframe thead tr:last-of-type th {\n",
       "        text-align: right;\n",
       "    }\n",
       "</style>\n",
       "<table border=\"1\" class=\"dataframe\">\n",
       "  <thead>\n",
       "    <tr>\n",
       "      <th></th>\n",
       "      <th colspan=\"5\" halign=\"left\">AGG</th>\n",
       "      <th colspan=\"5\" halign=\"left\">SPY</th>\n",
       "    </tr>\n",
       "    <tr>\n",
       "      <th></th>\n",
       "      <th>open</th>\n",
       "      <th>high</th>\n",
       "      <th>low</th>\n",
       "      <th>close</th>\n",
       "      <th>volume</th>\n",
       "      <th>open</th>\n",
       "      <th>high</th>\n",
       "      <th>low</th>\n",
       "      <th>close</th>\n",
       "      <th>volume</th>\n",
       "    </tr>\n",
       "    <tr>\n",
       "      <th>time</th>\n",
       "      <th></th>\n",
       "      <th></th>\n",
       "      <th></th>\n",
       "      <th></th>\n",
       "      <th></th>\n",
       "      <th></th>\n",
       "      <th></th>\n",
       "      <th></th>\n",
       "      <th></th>\n",
       "      <th></th>\n",
       "    </tr>\n",
       "  </thead>\n",
       "  <tbody>\n",
       "    <tr>\n",
       "      <th>2020-08-07 00:00:00-04:00</th>\n",
       "      <td>119.66</td>\n",
       "      <td>119.73</td>\n",
       "      <td>119.395</td>\n",
       "      <td>119.445</td>\n",
       "      <td>8830420</td>\n",
       "      <td>333.28</td>\n",
       "      <td>334.88</td>\n",
       "      <td>332.3</td>\n",
       "      <td>334.55</td>\n",
       "      <td>98710236</td>\n",
       "    </tr>\n",
       "  </tbody>\n",
       "</table>\n",
       "</div>"
      ],
      "text/plain": [
       "                              AGG                                        SPY  \\\n",
       "                             open    high      low    close   volume    open   \n",
       "time                                                                           \n",
       "2020-08-07 00:00:00-04:00  119.66  119.73  119.395  119.445  8830420  333.28   \n",
       "\n",
       "                                                            \n",
       "                             high    low   close    volume  \n",
       "time                                                        \n",
       "2020-08-07 00:00:00-04:00  334.88  332.3  334.55  98710236  "
      ]
     },
     "metadata": {},
     "output_type": "display_data"
    }
   ],
   "source": [
    "# Use the Alpaca get_barset function to get current closing prices the portfolio\n",
    "# Be sure to set the `df` property after the function to format the response object as a DataFrame\n",
    "# YOUR CODE HERE\n",
    "df_portfolio = alpaca.get_barset(\n",
    "    tickers,\n",
    "    timeframe,\n",
    "    start = start_date,\n",
    "    end = end_date\n",
    ").df\n",
    "\n",
    "\n",
    "# Review the first 5 rows of the Alpaca DataFrame\n",
    "# YOUR CODE HERE\n",
    "df_portfolio.head()\n",
    "display(df_portfolio)\n"
   ]
  },
  {
   "cell_type": "code",
   "execution_count": 27,
   "metadata": {},
   "outputs": [
    {
     "data": {
      "text/plain": [
       "(1, 10)"
      ]
     },
     "execution_count": 27,
     "metadata": {},
     "output_type": "execute_result"
    }
   ],
   "source": [
    "df_portfolio.shape"
   ]
  },
  {
   "cell_type": "markdown",
   "metadata": {
    "tags": []
   },
   "source": [
    "#### Step 5: Navigating the Alpaca response DataFrame, select the `SPY` and `AGG` closing prices, and store them as variables."
   ]
  },
  {
   "cell_type": "code",
   "execution_count": 25,
   "metadata": {
    "tags": []
   },
   "outputs": [
    {
     "name": "stdout",
     "output_type": "stream",
     "text": [
      "119.445\n"
     ]
    }
   ],
   "source": [
    "# Access the closing price for AGG from the Alpaca DataFrame\n",
    "# Converting the value to a floating point number\n",
    "agg_close_price = df_portfolio[\"AGG\"][\"close\"]\n",
    "\n",
    "# Print the AGG closing price\n",
    "print(agg_close_price[0])\n"
   ]
  },
  {
   "cell_type": "code",
   "execution_count": 30,
   "metadata": {},
   "outputs": [
    {
     "name": "stdout",
     "output_type": "stream",
     "text": [
      "334.55\n"
     ]
    }
   ],
   "source": [
    "# Access the closing price for SPY from the Alpaca DataFrame\n",
    "# Converting the value to a floating point number\n",
    "spy_close_price = df_portfolio[\"SPY\"][\"close\"]\n",
    "\n",
    "# Print the SPY closing price\n",
    "print(spy_close_price[0])\n"
   ]
  },
  {
   "cell_type": "markdown",
   "metadata": {},
   "source": [
    "#### Step 6: Calculate the value, in US dollars, of the current amount of shares in each of the stock and bond portions of the portfolio, and print the results."
   ]
  },
  {
   "cell_type": "code",
   "execution_count": 28,
   "metadata": {},
   "outputs": [
    {
     "name": "stdout",
     "output_type": "stream",
     "text": [
      "23889.0\n"
     ]
    }
   ],
   "source": [
    "# Calculate the current value of the bond portion of the portfolio\n",
    "agg_value = agg_close_price[0] * agg_shares\n",
    "\n",
    "# Print the current value of the bond portfolio\n",
    "print(agg_value)\n"
   ]
  },
  {
   "cell_type": "code",
   "execution_count": 31,
   "metadata": {},
   "outputs": [
    {
     "name": "stdout",
     "output_type": "stream",
     "text": [
      "36800.5\n"
     ]
    }
   ],
   "source": [
    "# Calculate the current value of the stock portion of the portfolio\n",
    "spy_value = spy_close_price[0] * spy_shares\n",
    "\n",
    "# Print the current value of the stock portfolio\n",
    "print(spy_value)\n"
   ]
  },
  {
   "cell_type": "code",
   "execution_count": 32,
   "metadata": {},
   "outputs": [
    {
     "name": "stdout",
     "output_type": "stream",
     "text": [
      "60689.5\n"
     ]
    }
   ],
   "source": [
    "# Calculate the total value of the stock and bond portion of the portfolio\n",
    "total_stocks_bonds = agg_value + spy_value\n",
    "\n",
    "# Print the current balance of the stock and bond portion of the portfolio\n",
    "print(total_stocks_bonds)\n"
   ]
  },
  {
   "cell_type": "code",
   "execution_count": 34,
   "metadata": {},
   "outputs": [
    {
     "name": "stdout",
     "output_type": "stream",
     "text": [
      "113763.88\n"
     ]
    }
   ],
   "source": [
    "# Calculate the total value of the member's entire savings portfolio\n",
    "# Add the value of the cryptocurrency walled to the value of the total stocks and bonds\n",
    "total_portfolio = total_crypto_wallet + total_stocks_bonds \n",
    "\n",
    "# Print current cryptocurrency wallet balance\n",
    "print(round(total_portfolio,2))\n"
   ]
  },
  {
   "cell_type": "markdown",
   "metadata": {},
   "source": [
    "### Evaluate the Emergency Fund\n",
    "\n",
    "In this section, you’ll use the valuations for the cryptocurrency wallet and for the stock and bond portions of the portfolio to determine if the credit union member has enough savings to build an emergency fund into their financial plan. To do this, complete the following steps:\n",
    "\n",
    "1. Create a Python list named `savings_data` that has two elements. The first element contains the total value of the cryptocurrency wallet. The second element contains the total value of the stock and bond portions of the portfolio.\n",
    "\n",
    "2. Use the `savings_data` list to create a Pandas DataFrame named `savings_df`, and then display this DataFrame. The function to create the DataFrame should take the following three parameters:\n",
    "\n",
    "    - `savings_data`: Use the list that you just created.\n",
    "\n",
    "    - `columns`: Set this parameter equal to a Python list with a single value called `amount`.\n",
    "\n",
    "    - `index`: Set this parameter equal to a Python list with the values of `crypto` and `stock/bond`.\n",
    "\n",
    "3. Use the `savings_df` DataFrame to plot a pie chart that visualizes the composition of the member’s portfolio. The y-axis of the pie chart uses `amount`. Be sure to add a title.\n",
    "\n",
    "4. Using Python, determine if the current portfolio has enough to create an emergency fund as part of the member’s financial plan. Ideally, an emergency fund should equal to three times the member’s monthly income. To do this, implement the following steps:\n",
    "\n",
    "    1. Create a variable named `emergency_fund_value`, and set it equal to three times the value of the member’s `monthly_income` of $12000. (You set this earlier in Part 1).\n",
    "\n",
    "    2. Create a series of three if statements to determine if the member’s total portfolio is large enough to fund the emergency portfolio:\n",
    "\n",
    "        1. If the total portfolio value is greater than the emergency fund value, display a message congratulating the member for having enough money in this fund.\n",
    "\n",
    "        2. Else if the total portfolio value is equal to the emergency fund value, display a message congratulating the member on reaching this important financial goal.\n",
    "\n",
    "        3. Else the total portfolio is less than the emergency fund value, so display a message showing how many dollars away the member is from reaching the goal. (Subtract the total portfolio value from the emergency fund value.)\n"
   ]
  },
  {
   "cell_type": "markdown",
   "metadata": {},
   "source": [
    "#### Step 1: Create a Python list named `savings_data` that has two elements. The first element contains the total value of the cryptocurrency wallet. The second element contains the total value of the stock and bond portions of the portfolio."
   ]
  },
  {
   "cell_type": "code",
   "execution_count": 81,
   "metadata": {},
   "outputs": [
    {
     "name": "stdout",
     "output_type": "stream",
     "text": [
      "51792.856\n",
      "60689.5\n"
     ]
    }
   ],
   "source": [
    "# Consolidate financial assets data into a Python list\n",
    "# YOUR CODE HERE\n",
    "savings_data = [total_crypto_wallet, total_stocks_bonds]\n",
    "\n",
    "# Review the Python list savings_data\n",
    "# YOUR CODE HERE\n",
    "for row in  savings_data:\n",
    "    print(row)\n",
    "    "
   ]
  },
  {
   "cell_type": "markdown",
   "metadata": {},
   "source": [
    "#### Step 2: Use the `savings_data` list to create a Pandas DataFrame named `savings_df`, and then display this DataFrame. The function to create the DataFrame should take the following three parameters:\n",
    "\n",
    "- `savings_data`: Use the list that you just created.\n",
    "\n",
    "- `columns`: Set this parameter equal to a Python list with a single value called `amount`.\n",
    "\n",
    "- `index`: Set this parameter equal to a Python list with the values of `crypto` and `stock/bond`.\n"
   ]
  },
  {
   "cell_type": "code",
   "execution_count": 82,
   "metadata": {},
   "outputs": [
    {
     "data": {
      "text/html": [
       "<div>\n",
       "<style scoped>\n",
       "    .dataframe tbody tr th:only-of-type {\n",
       "        vertical-align: middle;\n",
       "    }\n",
       "\n",
       "    .dataframe tbody tr th {\n",
       "        vertical-align: top;\n",
       "    }\n",
       "\n",
       "    .dataframe thead th {\n",
       "        text-align: right;\n",
       "    }\n",
       "</style>\n",
       "<table border=\"1\" class=\"dataframe\">\n",
       "  <thead>\n",
       "    <tr style=\"text-align: right;\">\n",
       "      <th></th>\n",
       "      <th>amount</th>\n",
       "    </tr>\n",
       "  </thead>\n",
       "  <tbody>\n",
       "    <tr>\n",
       "      <th>crypto</th>\n",
       "      <td>51792.856</td>\n",
       "    </tr>\n",
       "    <tr>\n",
       "      <th>stock/bond</th>\n",
       "      <td>60689.500</td>\n",
       "    </tr>\n",
       "  </tbody>\n",
       "</table>\n",
       "</div>"
      ],
      "text/plain": [
       "               amount\n",
       "crypto      51792.856\n",
       "stock/bond  60689.500"
      ]
     },
     "execution_count": 82,
     "metadata": {},
     "output_type": "execute_result"
    }
   ],
   "source": [
    "# Create a Pandas DataFrame called savings_df \n",
    "# YOUR CODE HERE\n",
    "savings_df = pd.DataFrame(data=savings_data, columns=[\"amount\"],index=[\"crypto\",\"stock/bond\"])\n",
    "    \n",
    "\n",
    "\n",
    "# Display the savings_df DataFrame\n",
    "savings_df\n"
   ]
  },
  {
   "cell_type": "markdown",
   "metadata": {},
   "source": [
    "#### Step 3: Use the `savings_df` DataFrame to plot a pie chart that visualizes the composition of the member’s portfolio. The y-axis of the pie chart uses `amount`. Be sure to add a title."
   ]
  },
  {
   "cell_type": "code",
   "execution_count": 41,
   "metadata": {},
   "outputs": [
    {
     "data": {
      "text/plain": [
       "<AxesSubplot:title={'center':'Portfolio Composition'}, ylabel='amount'>"
      ]
     },
     "execution_count": 41,
     "metadata": {},
     "output_type": "execute_result"
    },
    {
     "data": {
      "image/png": "[encoded data removed]",
      "text/plain": [
       "<Figure size 432x288 with 1 Axes>"
      ]
     },
     "metadata": {},
     "output_type": "display_data"
    }
   ],
   "source": [
    "# Plot the total value of the member's portfolio (crypto and stock/bond) in a pie chart\n",
    "# YOUR CODE HERE\n",
    "savings_df.plot(kind=\"pie\",y=\"amount\", title=\"Portfolio Composition\")\n"
   ]
  },
  {
   "cell_type": "markdown",
   "metadata": {},
   "source": [
    "#### Step 4: Using Python, determine if the current portfolio has enough to create an emergency fund as part of the member’s financial plan. Ideally, an emergency fund should equal to three times the member’s monthly income. To do this, implement the following steps:\n",
    "\n",
    "Step 1. Create a variable named `emergency_fund_value`, and set it equal to three times the value of the member’s `monthly_income` of 12000. (You set this earlier in Part 1).\n",
    "\n",
    "Step 2. Create a series of three if statements to determine if the member’s total portfolio is large enough to fund the emergency portfolio:\n",
    "\n",
    "* If the total portfolio value is greater than the emergency fund value, display a message congratulating the member for having enough money in this fund.\n",
    "\n",
    "* Else if the total portfolio value is equal to the emergency fund value, display a message congratulating the member on reaching this important financial goal.\n",
    "\n",
    "* Else the total portfolio is less than the emergency fund value, so display a message showing how many dollars away the member is from reaching the goal. (Subtract the total portfolio value from the emergency fund value.)\n"
   ]
  },
  {
   "cell_type": "markdown",
   "metadata": {},
   "source": [
    "##### Step 4-1: Create a variable named `emergency_fund_value`, and set it equal to three times the value of the member’s `monthly_income` of 12000. (You set this earlier in Part 1)."
   ]
  },
  {
   "cell_type": "code",
   "execution_count": 83,
   "metadata": {},
   "outputs": [
    {
     "name": "stdout",
     "output_type": "stream",
     "text": [
      "36000\n"
     ]
    }
   ],
   "source": [
    "# Create a variable named emergency_fund_value\n",
    "# YOUR CODE HERE\n",
    "emergency_fund_value = monthly_income * 3\n",
    "print(emergency_fund_value)\n"
   ]
  },
  {
   "cell_type": "markdown",
   "metadata": {},
   "source": [
    "##### Step 4-2: Create a series of three if statements to determine if the member’s total portfolio is large enough to fund the emergency portfolio:\n",
    "\n",
    "* If the total portfolio value is greater than the emergency fund value, display a message congratulating the member for having enough money in this fund.\n",
    "\n",
    "* Else if the total portfolio value is equal to the emergency fund value, display a message congratulating the member on reaching this important financial goal.\n",
    "\n",
    "* Else the total portfolio is less than the emergency fund value, so display a message showing how many dollars away the member is from reaching the goal. (Subtract the total portfolio value from the emergency fund value.)"
   ]
  },
  {
   "cell_type": "code",
   "execution_count": 84,
   "metadata": {},
   "outputs": [
    {
     "name": "stdout",
     "output_type": "stream",
     "text": [
      "congratulation you have enough money in this fund\n"
     ]
    }
   ],
   "source": [
    "# Evaluate the possibility of creating an emergency fund with 3 conditions:\n",
    "# YOUR CODE HERE\n",
    "# YOUR CODE HERE\n",
    "# YOUR CODE HERE\n",
    "if total_portfolio > emergency_fund_value:\n",
    "    print(\"congratulation you have enough money in this fund\");\n",
    "elif total_portfolio == emergency_fund_value:\n",
    "    print(\"congratulation you have reached enough an important financial gaol\");\n",
    "else:\n",
    "    balance_remaining = total_portfolio - emergency_fund_value\n",
    "    print(f\" Balance remaining to reach the goal is ${balance_remaining}\")\n",
    "\n",
    "\n"
   ]
  },
  {
   "cell_type": "markdown",
   "metadata": {},
   "source": [
    "## Part 2: Create a Financial Planner for Retirement"
   ]
  },
  {
   "cell_type": "markdown",
   "metadata": {},
   "source": [
    "### Create the Monte Carlo Simulation\n",
    "\n",
    "In this section, you’ll use the MCForecastTools library to create a Monte Carlo simulation for the member’s savings portfolio. To do this, complete the following steps:\n",
    "\n",
    "1. Make an API call via the Alpaca SDK to get 10 years of historical closing prices for a traditional 60/40 portfolio split: 60% stocks (SPY) and 40% bonds (AGG).\n",
    "\n",
    "2. Run a Monte Carlo simulation of 500 samples and 30 years for the 60/40 portfolio, and then plot the results.The following image shows the overlay line plot resulting from a simulation with these characteristics. However, because a random number generator is used to run each live Monte Carlo simulation, your image will differ slightly from this exact image:\n",
    "\n",
    "![A screenshot depicts the resulting plot.](Images/5-4-monte-carlo-line-plot.png)\n",
    "\n",
    "3. Plot the probability distribution of the Monte Carlo simulation. Plot the probability distribution of the Monte Carlo simulation. The following image shows the histogram plot resulting from a simulation with these characteristics. However, because a random number generator is used to run each live Monte Carlo simulation, your image will differ slightly from this exact image:\n",
    "\n",
    "![A screenshot depicts the histogram plot.](Images/5-4-monte-carlo-histogram.png)\n",
    "\n",
    "4. Generate the summary statistics for the Monte Carlo simulation.\n",
    "\n"
   ]
  },
  {
   "cell_type": "markdown",
   "metadata": {},
   "source": [
    "#### Step 1: Make an API call via the Alpaca SDK to get 10 years of historical closing prices for a traditional 60/40 portfolio split: 60% stocks (SPY) and 40% bonds (AGG)."
   ]
  },
  {
   "cell_type": "code",
   "execution_count": 61,
   "metadata": {},
   "outputs": [],
   "source": [
    "# Set start and end dates of 10 years back from your current date\n",
    "# Alternatively, you can use an end date of 2020-08-07 and work 10 years back from that date \n",
    "# YOUR CODE HERE\n",
    "start_date = pd.Timestamp(\"2010-08-07\", tz=\"America/New_York\").isoformat()\n",
    "end_date = pd.Timestamp(\"2020-08-07\", tz=\"America/New_York\").isoformat()\n",
    "# YOUR CODE HERE\n",
    "\n"
   ]
  },
  {
   "cell_type": "code",
   "execution_count": 111,
   "metadata": {},
   "outputs": [
    {
     "data": {
      "text/html": [
       "<div>\n",
       "<style scoped>\n",
       "    .dataframe tbody tr th:only-of-type {\n",
       "        vertical-align: middle;\n",
       "    }\n",
       "\n",
       "    .dataframe tbody tr th {\n",
       "        vertical-align: top;\n",
       "    }\n",
       "\n",
       "    .dataframe thead tr th {\n",
       "        text-align: left;\n",
       "    }\n",
       "\n",
       "    .dataframe thead tr:last-of-type th {\n",
       "        text-align: right;\n",
       "    }\n",
       "</style>\n",
       "<table border=\"1\" class=\"dataframe\">\n",
       "  <thead>\n",
       "    <tr>\n",
       "      <th></th>\n",
       "      <th colspan=\"5\" halign=\"left\">AGG</th>\n",
       "      <th colspan=\"5\" halign=\"left\">SPY</th>\n",
       "    </tr>\n",
       "    <tr>\n",
       "      <th></th>\n",
       "      <th>open</th>\n",
       "      <th>high</th>\n",
       "      <th>low</th>\n",
       "      <th>close</th>\n",
       "      <th>volume</th>\n",
       "      <th>open</th>\n",
       "      <th>high</th>\n",
       "      <th>low</th>\n",
       "      <th>close</th>\n",
       "      <th>volume</th>\n",
       "    </tr>\n",
       "    <tr>\n",
       "      <th>time</th>\n",
       "      <th></th>\n",
       "      <th></th>\n",
       "      <th></th>\n",
       "      <th></th>\n",
       "      <th></th>\n",
       "      <th></th>\n",
       "      <th></th>\n",
       "      <th></th>\n",
       "      <th></th>\n",
       "      <th></th>\n",
       "    </tr>\n",
       "  </thead>\n",
       "  <tbody>\n",
       "    <tr>\n",
       "      <th>2010-08-09 00:00:00-04:00</th>\n",
       "      <td>107.66</td>\n",
       "      <td>107.680</td>\n",
       "      <td>107.53</td>\n",
       "      <td>107.63</td>\n",
       "      <td>478988.0</td>\n",
       "      <td>112.92</td>\n",
       "      <td>113.18</td>\n",
       "      <td>112.3200</td>\n",
       "      <td>112.9801</td>\n",
       "      <td>89387651.0</td>\n",
       "    </tr>\n",
       "    <tr>\n",
       "      <th>2010-08-10 00:00:00-04:00</th>\n",
       "      <td>107.63</td>\n",
       "      <td>107.920</td>\n",
       "      <td>107.56</td>\n",
       "      <td>107.83</td>\n",
       "      <td>532447.0</td>\n",
       "      <td>112.03</td>\n",
       "      <td>112.98</td>\n",
       "      <td>111.3701</td>\n",
       "      <td>112.4200</td>\n",
       "      <td>202262432.0</td>\n",
       "    </tr>\n",
       "    <tr>\n",
       "      <th>2010-08-11 00:00:00-04:00</th>\n",
       "      <td>107.91</td>\n",
       "      <td>107.956</td>\n",
       "      <td>107.79</td>\n",
       "      <td>107.91</td>\n",
       "      <td>665686.0</td>\n",
       "      <td>110.65</td>\n",
       "      <td>110.69</td>\n",
       "      <td>109.1200</td>\n",
       "      <td>109.2901</td>\n",
       "      <td>223970698.0</td>\n",
       "    </tr>\n",
       "    <tr>\n",
       "      <th>2010-08-12 00:00:00-04:00</th>\n",
       "      <td>107.93</td>\n",
       "      <td>107.980</td>\n",
       "      <td>107.67</td>\n",
       "      <td>107.74</td>\n",
       "      <td>640614.0</td>\n",
       "      <td>107.64</td>\n",
       "      <td>109.02</td>\n",
       "      <td>107.6000</td>\n",
       "      <td>108.6400</td>\n",
       "      <td>190434932.0</td>\n",
       "    </tr>\n",
       "    <tr>\n",
       "      <th>2010-08-13 00:00:00-04:00</th>\n",
       "      <td>107.77</td>\n",
       "      <td>108.000</td>\n",
       "      <td>107.67</td>\n",
       "      <td>108.00</td>\n",
       "      <td>563778.0</td>\n",
       "      <td>108.29</td>\n",
       "      <td>108.96</td>\n",
       "      <td>108.1800</td>\n",
       "      <td>108.3000</td>\n",
       "      <td>130664078.0</td>\n",
       "    </tr>\n",
       "  </tbody>\n",
       "</table>\n",
       "</div>"
      ],
      "text/plain": [
       "                              AGG                                        SPY  \\\n",
       "                             open     high     low   close    volume    open   \n",
       "time                                                                           \n",
       "2010-08-09 00:00:00-04:00  107.66  107.680  107.53  107.63  478988.0  112.92   \n",
       "2010-08-10 00:00:00-04:00  107.63  107.920  107.56  107.83  532447.0  112.03   \n",
       "2010-08-11 00:00:00-04:00  107.91  107.956  107.79  107.91  665686.0  110.65   \n",
       "2010-08-12 00:00:00-04:00  107.93  107.980  107.67  107.74  640614.0  107.64   \n",
       "2010-08-13 00:00:00-04:00  107.77  108.000  107.67  108.00  563778.0  108.29   \n",
       "\n",
       "                                                                    \n",
       "                             high       low     close       volume  \n",
       "time                                                                \n",
       "2010-08-09 00:00:00-04:00  113.18  112.3200  112.9801   89387651.0  \n",
       "2010-08-10 00:00:00-04:00  112.98  111.3701  112.4200  202262432.0  \n",
       "2010-08-11 00:00:00-04:00  110.69  109.1200  109.2901  223970698.0  \n",
       "2010-08-12 00:00:00-04:00  109.02  107.6000  108.6400  190434932.0  \n",
       "2010-08-13 00:00:00-04:00  108.96  108.1800  108.3000  130664078.0  "
      ]
     },
     "metadata": {},
     "output_type": "display_data"
    },
    {
     "data": {
      "text/html": [
       "<div>\n",
       "<style scoped>\n",
       "    .dataframe tbody tr th:only-of-type {\n",
       "        vertical-align: middle;\n",
       "    }\n",
       "\n",
       "    .dataframe tbody tr th {\n",
       "        vertical-align: top;\n",
       "    }\n",
       "\n",
       "    .dataframe thead tr th {\n",
       "        text-align: left;\n",
       "    }\n",
       "\n",
       "    .dataframe thead tr:last-of-type th {\n",
       "        text-align: right;\n",
       "    }\n",
       "</style>\n",
       "<table border=\"1\" class=\"dataframe\">\n",
       "  <thead>\n",
       "    <tr>\n",
       "      <th></th>\n",
       "      <th colspan=\"5\" halign=\"left\">AGG</th>\n",
       "      <th colspan=\"5\" halign=\"left\">SPY</th>\n",
       "    </tr>\n",
       "    <tr>\n",
       "      <th></th>\n",
       "      <th>open</th>\n",
       "      <th>high</th>\n",
       "      <th>low</th>\n",
       "      <th>close</th>\n",
       "      <th>volume</th>\n",
       "      <th>open</th>\n",
       "      <th>high</th>\n",
       "      <th>low</th>\n",
       "      <th>close</th>\n",
       "      <th>volume</th>\n",
       "    </tr>\n",
       "    <tr>\n",
       "      <th>time</th>\n",
       "      <th></th>\n",
       "      <th></th>\n",
       "      <th></th>\n",
       "      <th></th>\n",
       "      <th></th>\n",
       "      <th></th>\n",
       "      <th></th>\n",
       "      <th></th>\n",
       "      <th></th>\n",
       "      <th></th>\n",
       "    </tr>\n",
       "  </thead>\n",
       "  <tbody>\n",
       "    <tr>\n",
       "      <th>2020-08-03 00:00:00-04:00</th>\n",
       "      <td>119.37</td>\n",
       "      <td>119.40</td>\n",
       "      <td>119.1903</td>\n",
       "      <td>119.400</td>\n",
       "      <td>17837420.0</td>\n",
       "      <td>328.3200</td>\n",
       "      <td>329.62</td>\n",
       "      <td>327.73</td>\n",
       "      <td>328.76</td>\n",
       "      <td>71741125.0</td>\n",
       "    </tr>\n",
       "    <tr>\n",
       "      <th>2020-08-04 00:00:00-04:00</th>\n",
       "      <td>119.42</td>\n",
       "      <td>119.63</td>\n",
       "      <td>119.4200</td>\n",
       "      <td>119.630</td>\n",
       "      <td>21512268.0</td>\n",
       "      <td>327.8600</td>\n",
       "      <td>330.06</td>\n",
       "      <td>327.86</td>\n",
       "      <td>330.03</td>\n",
       "      <td>73684427.0</td>\n",
       "    </tr>\n",
       "    <tr>\n",
       "      <th>2020-08-05 00:00:00-04:00</th>\n",
       "      <td>119.39</td>\n",
       "      <td>119.49</td>\n",
       "      <td>119.3100</td>\n",
       "      <td>119.400</td>\n",
       "      <td>34175883.0</td>\n",
       "      <td>331.4700</td>\n",
       "      <td>332.39</td>\n",
       "      <td>331.18</td>\n",
       "      <td>332.06</td>\n",
       "      <td>72846458.0</td>\n",
       "    </tr>\n",
       "    <tr>\n",
       "      <th>2020-08-06 00:00:00-04:00</th>\n",
       "      <td>119.62</td>\n",
       "      <td>119.73</td>\n",
       "      <td>119.5300</td>\n",
       "      <td>119.580</td>\n",
       "      <td>9009216.0</td>\n",
       "      <td>331.4799</td>\n",
       "      <td>334.46</td>\n",
       "      <td>331.13</td>\n",
       "      <td>334.31</td>\n",
       "      <td>76900649.0</td>\n",
       "    </tr>\n",
       "    <tr>\n",
       "      <th>2020-08-07 00:00:00-04:00</th>\n",
       "      <td>119.66</td>\n",
       "      <td>119.73</td>\n",
       "      <td>119.3950</td>\n",
       "      <td>119.445</td>\n",
       "      <td>8830420.0</td>\n",
       "      <td>333.2800</td>\n",
       "      <td>334.88</td>\n",
       "      <td>332.30</td>\n",
       "      <td>334.55</td>\n",
       "      <td>98710236.0</td>\n",
       "    </tr>\n",
       "  </tbody>\n",
       "</table>\n",
       "</div>"
      ],
      "text/plain": [
       "                              AGG                                         \\\n",
       "                             open    high       low    close      volume   \n",
       "time                                                                       \n",
       "2020-08-03 00:00:00-04:00  119.37  119.40  119.1903  119.400  17837420.0   \n",
       "2020-08-04 00:00:00-04:00  119.42  119.63  119.4200  119.630  21512268.0   \n",
       "2020-08-05 00:00:00-04:00  119.39  119.49  119.3100  119.400  34175883.0   \n",
       "2020-08-06 00:00:00-04:00  119.62  119.73  119.5300  119.580   9009216.0   \n",
       "2020-08-07 00:00:00-04:00  119.66  119.73  119.3950  119.445   8830420.0   \n",
       "\n",
       "                                SPY                                      \n",
       "                               open    high     low   close      volume  \n",
       "time                                                                     \n",
       "2020-08-03 00:00:00-04:00  328.3200  329.62  327.73  328.76  71741125.0  \n",
       "2020-08-04 00:00:00-04:00  327.8600  330.06  327.86  330.03  73684427.0  \n",
       "2020-08-05 00:00:00-04:00  331.4700  332.39  331.18  332.06  72846458.0  \n",
       "2020-08-06 00:00:00-04:00  331.4799  334.46  331.13  334.31  76900649.0  \n",
       "2020-08-07 00:00:00-04:00  333.2800  334.88  332.30  334.55  98710236.0  "
      ]
     },
     "metadata": {},
     "output_type": "display_data"
    }
   ],
   "source": [
    "# Use the Alpaca get_barset function to make the API call to get the 10 years worth of pricing data\n",
    "# The tickers and timeframe parameters should have been set in Part 1 of this activity \n",
    "# The start and end dates should be updated with the information set above\n",
    "# Remember to add the df property to the end of the call so the response is returned as a DataFrame\n",
    "# YOUR CODE HERE\n",
    "# modified the year date into three price_df\n",
    "start_date = pd.Timestamp(\"2016-08-07\", tz=\"America/New_York\").isoformat()\n",
    "end_date = pd.Timestamp(\"2020-08-07\", tz=\"America/New_York\").isoformat()\n",
    " # the last four years \n",
    "prices_1_df = alpaca.get_barset(\n",
    "    tickers,\n",
    "    timeframe,\n",
    "    start=start_date,\n",
    "    end=end_date,\n",
    "    limit = 1000\n",
    ").df\n",
    "\n",
    "# The second group , three years \n",
    "start_date = pd.Timestamp(\"2012-08-07\", tz=\"America/New_York\").isoformat()\n",
    "end_date = pd.Timestamp(\"2016-08-07\", tz=\"America/New_York\").isoformat()\n",
    "\n",
    "prices_2_df = alpaca.get_barset(\n",
    "    tickers,\n",
    "    timeframe,\n",
    "    start=start_date,\n",
    "    end=end_date,\n",
    "    limit = 1000\n",
    ").df\n",
    "\n",
    "# The third group \n",
    "start_date = pd.Timestamp(\"2010-08-07\", tz=\"America/New_York\").isoformat()\n",
    "end_date = pd.Timestamp(\"2012-08-07\", tz=\"America/New_York\").isoformat()\n",
    "prices_3_df = alpaca.get_barset(\n",
    "    tickers,\n",
    "    timeframe,\n",
    "    start=start_date,\n",
    "    end=end_date,\n",
    "    limit = 1000\n",
    ").df\n",
    "\n",
    "\n",
    "full_10_year_prices_df = pd.concat([prices_3_df,prices_2_df,prices_1_df], axis=0)\n",
    "# Display both the first and last five rows of the DataFrame\n",
    "display(full_10_year_prices_df.head())\n",
    "display(full_10_year_prices_df.tail())\n"
   ]
  },
  {
   "cell_type": "markdown",
   "metadata": {},
   "source": [
    "#### Step 2: Run a Monte Carlo simulation of 500 samples and 30 years for the 60/40 portfolio, and then plot the results."
   ]
  },
  {
   "cell_type": "code",
   "execution_count": 119,
   "metadata": {},
   "outputs": [
    {
     "data": {
      "text/html": [
       "<div>\n",
       "<style scoped>\n",
       "    .dataframe tbody tr th:only-of-type {\n",
       "        vertical-align: middle;\n",
       "    }\n",
       "\n",
       "    .dataframe tbody tr th {\n",
       "        vertical-align: top;\n",
       "    }\n",
       "\n",
       "    .dataframe thead tr th {\n",
       "        text-align: left;\n",
       "    }\n",
       "\n",
       "    .dataframe thead tr:last-of-type th {\n",
       "        text-align: right;\n",
       "    }\n",
       "</style>\n",
       "<table border=\"1\" class=\"dataframe\">\n",
       "  <thead>\n",
       "    <tr>\n",
       "      <th></th>\n",
       "      <th colspan=\"6\" halign=\"left\">AGG</th>\n",
       "      <th colspan=\"6\" halign=\"left\">SPY</th>\n",
       "    </tr>\n",
       "    <tr>\n",
       "      <th></th>\n",
       "      <th>open</th>\n",
       "      <th>high</th>\n",
       "      <th>low</th>\n",
       "      <th>close</th>\n",
       "      <th>volume</th>\n",
       "      <th>daily_return</th>\n",
       "      <th>open</th>\n",
       "      <th>high</th>\n",
       "      <th>low</th>\n",
       "      <th>close</th>\n",
       "      <th>volume</th>\n",
       "      <th>daily_return</th>\n",
       "    </tr>\n",
       "    <tr>\n",
       "      <th>time</th>\n",
       "      <th></th>\n",
       "      <th></th>\n",
       "      <th></th>\n",
       "      <th></th>\n",
       "      <th></th>\n",
       "      <th></th>\n",
       "      <th></th>\n",
       "      <th></th>\n",
       "      <th></th>\n",
       "      <th></th>\n",
       "      <th></th>\n",
       "      <th></th>\n",
       "    </tr>\n",
       "  </thead>\n",
       "  <tbody>\n",
       "    <tr>\n",
       "      <th>2010-08-09 00:00:00-04:00</th>\n",
       "      <td>107.66</td>\n",
       "      <td>107.680</td>\n",
       "      <td>107.53</td>\n",
       "      <td>107.63</td>\n",
       "      <td>478988.0</td>\n",
       "      <td>NaN</td>\n",
       "      <td>112.92</td>\n",
       "      <td>113.18</td>\n",
       "      <td>112.3200</td>\n",
       "      <td>112.9801</td>\n",
       "      <td>89387651.0</td>\n",
       "      <td>NaN</td>\n",
       "    </tr>\n",
       "    <tr>\n",
       "      <th>2010-08-10 00:00:00-04:00</th>\n",
       "      <td>107.63</td>\n",
       "      <td>107.920</td>\n",
       "      <td>107.56</td>\n",
       "      <td>107.83</td>\n",
       "      <td>532447.0</td>\n",
       "      <td>0.001858</td>\n",
       "      <td>112.03</td>\n",
       "      <td>112.98</td>\n",
       "      <td>111.3701</td>\n",
       "      <td>112.4200</td>\n",
       "      <td>202262432.0</td>\n",
       "      <td>-0.004958</td>\n",
       "    </tr>\n",
       "    <tr>\n",
       "      <th>2010-08-11 00:00:00-04:00</th>\n",
       "      <td>107.91</td>\n",
       "      <td>107.956</td>\n",
       "      <td>107.79</td>\n",
       "      <td>107.91</td>\n",
       "      <td>665686.0</td>\n",
       "      <td>0.000742</td>\n",
       "      <td>110.65</td>\n",
       "      <td>110.69</td>\n",
       "      <td>109.1200</td>\n",
       "      <td>109.2901</td>\n",
       "      <td>223970698.0</td>\n",
       "      <td>-0.027841</td>\n",
       "    </tr>\n",
       "    <tr>\n",
       "      <th>2010-08-12 00:00:00-04:00</th>\n",
       "      <td>107.93</td>\n",
       "      <td>107.980</td>\n",
       "      <td>107.67</td>\n",
       "      <td>107.74</td>\n",
       "      <td>640614.0</td>\n",
       "      <td>-0.001575</td>\n",
       "      <td>107.64</td>\n",
       "      <td>109.02</td>\n",
       "      <td>107.6000</td>\n",
       "      <td>108.6400</td>\n",
       "      <td>190434932.0</td>\n",
       "      <td>-0.005948</td>\n",
       "    </tr>\n",
       "    <tr>\n",
       "      <th>2010-08-13 00:00:00-04:00</th>\n",
       "      <td>107.77</td>\n",
       "      <td>108.000</td>\n",
       "      <td>107.67</td>\n",
       "      <td>108.00</td>\n",
       "      <td>563778.0</td>\n",
       "      <td>0.002413</td>\n",
       "      <td>108.29</td>\n",
       "      <td>108.96</td>\n",
       "      <td>108.1800</td>\n",
       "      <td>108.3000</td>\n",
       "      <td>130664078.0</td>\n",
       "      <td>-0.003130</td>\n",
       "    </tr>\n",
       "  </tbody>\n",
       "</table>\n",
       "</div>"
      ],
      "text/plain": [
       "                              AGG                                     \\\n",
       "                             open     high     low   close    volume   \n",
       "time                                                                   \n",
       "2010-08-09 00:00:00-04:00  107.66  107.680  107.53  107.63  478988.0   \n",
       "2010-08-10 00:00:00-04:00  107.63  107.920  107.56  107.83  532447.0   \n",
       "2010-08-11 00:00:00-04:00  107.91  107.956  107.79  107.91  665686.0   \n",
       "2010-08-12 00:00:00-04:00  107.93  107.980  107.67  107.74  640614.0   \n",
       "2010-08-13 00:00:00-04:00  107.77  108.000  107.67  108.00  563778.0   \n",
       "\n",
       "                                           SPY                              \\\n",
       "                          daily_return    open    high       low     close   \n",
       "time                                                                         \n",
       "2010-08-09 00:00:00-04:00          NaN  112.92  113.18  112.3200  112.9801   \n",
       "2010-08-10 00:00:00-04:00     0.001858  112.03  112.98  111.3701  112.4200   \n",
       "2010-08-11 00:00:00-04:00     0.000742  110.65  110.69  109.1200  109.2901   \n",
       "2010-08-12 00:00:00-04:00    -0.001575  107.64  109.02  107.6000  108.6400   \n",
       "2010-08-13 00:00:00-04:00     0.002413  108.29  108.96  108.1800  108.3000   \n",
       "\n",
       "                                                     \n",
       "                                volume daily_return  \n",
       "time                                                 \n",
       "2010-08-09 00:00:00-04:00   89387651.0          NaN  \n",
       "2010-08-10 00:00:00-04:00  202262432.0    -0.004958  \n",
       "2010-08-11 00:00:00-04:00  223970698.0    -0.027841  \n",
       "2010-08-12 00:00:00-04:00  190434932.0    -0.005948  \n",
       "2010-08-13 00:00:00-04:00  130664078.0    -0.003130  "
      ]
     },
     "execution_count": 119,
     "metadata": {},
     "output_type": "execute_result"
    }
   ],
   "source": [
    "# Configure the Monte Carlo simulation to forecast 30 years cumulative returns\n",
    "# The weights should be split 40% to AGG and 60% to SPY.\n",
    "# Run 500 samples.\n",
    "# YOUR CODE HERE\n",
    "MC_thirtyyear = MCSimulation(\n",
    "    portfolio_data = full_10_year_prices_df,\n",
    "    weights = [.40,.60],\n",
    "    num_simulation = 500,\n",
    "    num_trading_days = 252*30\n",
    ")\n",
    "\n",
    "# Review the simulation input data\n",
    "# YOUR CODE HERE\n",
    "MC_thirtyyear.portfolio_data.head()"
   ]
  },
  {
   "cell_type": "code",
   "execution_count": 120,
   "metadata": {},
   "outputs": [
    {
     "name": "stdout",
     "output_type": "stream",
     "text": [
      "Running Monte Carlo simulation number 0.\n",
      "Running Monte Carlo simulation number 10.\n",
      "Running Monte Carlo simulation number 20.\n",
      "Running Monte Carlo simulation number 30.\n",
      "Running Monte Carlo simulation number 40.\n",
      "Running Monte Carlo simulation number 50.\n",
      "Running Monte Carlo simulation number 60.\n",
      "Running Monte Carlo simulation number 70.\n",
      "Running Monte Carlo simulation number 80.\n",
      "Running Monte Carlo simulation number 90.\n",
      "Running Monte Carlo simulation number 100.\n",
      "Running Monte Carlo simulation number 110.\n",
      "Running Monte Carlo simulation number 120.\n",
      "Running Monte Carlo simulation number 130.\n",
      "Running Monte Carlo simulation number 140.\n",
      "Running Monte Carlo simulation number 150.\n",
      "Running Monte Carlo simulation number 160.\n",
      "Running Monte Carlo simulation number 170.\n",
      "Running Monte Carlo simulation number 180.\n",
      "Running Monte Carlo simulation number 190.\n",
      "Running Monte Carlo simulation number 200.\n",
      "Running Monte Carlo simulation number 210.\n",
      "Running Monte Carlo simulation number 220.\n",
      "Running Monte Carlo simulation number 230.\n",
      "Running Monte Carlo simulation number 240.\n",
      "Running Monte Carlo simulation number 250.\n",
      "Running Monte Carlo simulation number 260.\n",
      "Running Monte Carlo simulation number 270.\n",
      "Running Monte Carlo simulation number 280.\n",
      "Running Monte Carlo simulation number 290.\n",
      "Running Monte Carlo simulation number 300.\n",
      "Running Monte Carlo simulation number 310.\n",
      "Running Monte Carlo simulation number 320.\n",
      "Running Monte Carlo simulation number 330.\n",
      "Running Monte Carlo simulation number 340.\n",
      "Running Monte Carlo simulation number 350.\n",
      "Running Monte Carlo simulation number 360.\n",
      "Running Monte Carlo simulation number 370.\n",
      "Running Monte Carlo simulation number 380.\n",
      "Running Monte Carlo simulation number 390.\n",
      "Running Monte Carlo simulation number 400.\n",
      "Running Monte Carlo simulation number 410.\n",
      "Running Monte Carlo simulation number 420.\n",
      "Running Monte Carlo simulation number 430.\n",
      "Running Monte Carlo simulation number 440.\n",
      "Running Monte Carlo simulation number 450.\n",
      "Running Monte Carlo simulation number 460.\n",
      "Running Monte Carlo simulation number 470.\n",
      "Running Monte Carlo simulation number 480.\n",
      "Running Monte Carlo simulation number 490.\n"
     ]
    },
    {
     "data": {
      "text/html": [
       "<div>\n",
       "<style scoped>\n",
       "    .dataframe tbody tr th:only-of-type {\n",
       "        vertical-align: middle;\n",
       "    }\n",
       "\n",
       "    .dataframe tbody tr th {\n",
       "        vertical-align: top;\n",
       "    }\n",
       "\n",
       "    .dataframe thead th {\n",
       "        text-align: right;\n",
       "    }\n",
       "</style>\n",
       "<table border=\"1\" class=\"dataframe\">\n",
       "  <thead>\n",
       "    <tr style=\"text-align: right;\">\n",
       "      <th></th>\n",
       "      <th>0</th>\n",
       "      <th>1</th>\n",
       "      <th>2</th>\n",
       "      <th>3</th>\n",
       "      <th>4</th>\n",
       "      <th>5</th>\n",
       "      <th>6</th>\n",
       "      <th>7</th>\n",
       "      <th>8</th>\n",
       "      <th>9</th>\n",
       "      <th>...</th>\n",
       "      <th>490</th>\n",
       "      <th>491</th>\n",
       "      <th>492</th>\n",
       "      <th>493</th>\n",
       "      <th>494</th>\n",
       "      <th>495</th>\n",
       "      <th>496</th>\n",
       "      <th>497</th>\n",
       "      <th>498</th>\n",
       "      <th>499</th>\n",
       "    </tr>\n",
       "  </thead>\n",
       "  <tbody>\n",
       "    <tr>\n",
       "      <th>0</th>\n",
       "      <td>1.000000</td>\n",
       "      <td>1.000000</td>\n",
       "      <td>1.000000</td>\n",
       "      <td>1.000000</td>\n",
       "      <td>1.000000</td>\n",
       "      <td>1.000000</td>\n",
       "      <td>1.000000</td>\n",
       "      <td>1.000000</td>\n",
       "      <td>1.000000</td>\n",
       "      <td>1.000000</td>\n",
       "      <td>...</td>\n",
       "      <td>1.000000</td>\n",
       "      <td>1.000000</td>\n",
       "      <td>1.000000</td>\n",
       "      <td>1.000000</td>\n",
       "      <td>1.000000</td>\n",
       "      <td>1.000000</td>\n",
       "      <td>1.000000</td>\n",
       "      <td>1.000000</td>\n",
       "      <td>1.000000</td>\n",
       "      <td>1.000000</td>\n",
       "    </tr>\n",
       "    <tr>\n",
       "      <th>1</th>\n",
       "      <td>0.999148</td>\n",
       "      <td>0.996703</td>\n",
       "      <td>1.015166</td>\n",
       "      <td>1.011853</td>\n",
       "      <td>1.004084</td>\n",
       "      <td>1.015958</td>\n",
       "      <td>1.005058</td>\n",
       "      <td>0.989908</td>\n",
       "      <td>1.000888</td>\n",
       "      <td>0.994267</td>\n",
       "      <td>...</td>\n",
       "      <td>0.993398</td>\n",
       "      <td>1.008738</td>\n",
       "      <td>0.997391</td>\n",
       "      <td>1.002585</td>\n",
       "      <td>1.002501</td>\n",
       "      <td>1.007643</td>\n",
       "      <td>1.002763</td>\n",
       "      <td>0.998564</td>\n",
       "      <td>1.006621</td>\n",
       "      <td>0.996776</td>\n",
       "    </tr>\n",
       "    <tr>\n",
       "      <th>2</th>\n",
       "      <td>0.984009</td>\n",
       "      <td>1.005494</td>\n",
       "      <td>1.016721</td>\n",
       "      <td>1.013801</td>\n",
       "      <td>1.019311</td>\n",
       "      <td>1.021327</td>\n",
       "      <td>1.003071</td>\n",
       "      <td>0.984215</td>\n",
       "      <td>1.005318</td>\n",
       "      <td>0.996617</td>\n",
       "      <td>...</td>\n",
       "      <td>0.999033</td>\n",
       "      <td>1.006718</td>\n",
       "      <td>1.010949</td>\n",
       "      <td>1.013843</td>\n",
       "      <td>0.994135</td>\n",
       "      <td>1.019069</td>\n",
       "      <td>0.992164</td>\n",
       "      <td>1.001965</td>\n",
       "      <td>1.004215</td>\n",
       "      <td>0.991145</td>\n",
       "    </tr>\n",
       "    <tr>\n",
       "      <th>3</th>\n",
       "      <td>0.987933</td>\n",
       "      <td>1.005688</td>\n",
       "      <td>1.016058</td>\n",
       "      <td>1.005873</td>\n",
       "      <td>1.030041</td>\n",
       "      <td>1.025543</td>\n",
       "      <td>1.014577</td>\n",
       "      <td>0.977479</td>\n",
       "      <td>1.015043</td>\n",
       "      <td>0.992712</td>\n",
       "      <td>...</td>\n",
       "      <td>1.008420</td>\n",
       "      <td>1.003239</td>\n",
       "      <td>1.001351</td>\n",
       "      <td>1.013183</td>\n",
       "      <td>0.994400</td>\n",
       "      <td>1.005377</td>\n",
       "      <td>1.001035</td>\n",
       "      <td>1.004245</td>\n",
       "      <td>1.002636</td>\n",
       "      <td>1.006822</td>\n",
       "    </tr>\n",
       "    <tr>\n",
       "      <th>4</th>\n",
       "      <td>0.990642</td>\n",
       "      <td>0.993407</td>\n",
       "      <td>1.020898</td>\n",
       "      <td>1.004538</td>\n",
       "      <td>1.018936</td>\n",
       "      <td>1.025752</td>\n",
       "      <td>1.003768</td>\n",
       "      <td>0.967674</td>\n",
       "      <td>1.017642</td>\n",
       "      <td>0.991370</td>\n",
       "      <td>...</td>\n",
       "      <td>1.008272</td>\n",
       "      <td>1.011809</td>\n",
       "      <td>1.011033</td>\n",
       "      <td>0.998670</td>\n",
       "      <td>0.998335</td>\n",
       "      <td>1.008745</td>\n",
       "      <td>1.001264</td>\n",
       "      <td>0.992734</td>\n",
       "      <td>0.998450</td>\n",
       "      <td>1.011793</td>\n",
       "    </tr>\n",
       "    <tr>\n",
       "      <th>...</th>\n",
       "      <td>...</td>\n",
       "      <td>...</td>\n",
       "      <td>...</td>\n",
       "      <td>...</td>\n",
       "      <td>...</td>\n",
       "      <td>...</td>\n",
       "      <td>...</td>\n",
       "      <td>...</td>\n",
       "      <td>...</td>\n",
       "      <td>...</td>\n",
       "      <td>...</td>\n",
       "      <td>...</td>\n",
       "      <td>...</td>\n",
       "      <td>...</td>\n",
       "      <td>...</td>\n",
       "      <td>...</td>\n",
       "      <td>...</td>\n",
       "      <td>...</td>\n",
       "      <td>...</td>\n",
       "      <td>...</td>\n",
       "      <td>...</td>\n",
       "    </tr>\n",
       "    <tr>\n",
       "      <th>7556</th>\n",
       "      <td>16.207090</td>\n",
       "      <td>13.350038</td>\n",
       "      <td>13.503973</td>\n",
       "      <td>8.549174</td>\n",
       "      <td>5.759399</td>\n",
       "      <td>11.096356</td>\n",
       "      <td>11.327438</td>\n",
       "      <td>11.861646</td>\n",
       "      <td>10.623393</td>\n",
       "      <td>4.204096</td>\n",
       "      <td>...</td>\n",
       "      <td>5.394749</td>\n",
       "      <td>11.165269</td>\n",
       "      <td>9.221369</td>\n",
       "      <td>8.209287</td>\n",
       "      <td>8.050336</td>\n",
       "      <td>6.025384</td>\n",
       "      <td>3.205371</td>\n",
       "      <td>5.233706</td>\n",
       "      <td>8.536530</td>\n",
       "      <td>12.255613</td>\n",
       "    </tr>\n",
       "    <tr>\n",
       "      <th>7557</th>\n",
       "      <td>16.375400</td>\n",
       "      <td>13.417660</td>\n",
       "      <td>13.559949</td>\n",
       "      <td>8.477168</td>\n",
       "      <td>5.784881</td>\n",
       "      <td>11.135082</td>\n",
       "      <td>11.437082</td>\n",
       "      <td>11.827710</td>\n",
       "      <td>10.658344</td>\n",
       "      <td>4.179770</td>\n",
       "      <td>...</td>\n",
       "      <td>5.421673</td>\n",
       "      <td>10.994379</td>\n",
       "      <td>9.108555</td>\n",
       "      <td>8.273580</td>\n",
       "      <td>7.983398</td>\n",
       "      <td>5.984232</td>\n",
       "      <td>3.285749</td>\n",
       "      <td>5.193006</td>\n",
       "      <td>8.563756</td>\n",
       "      <td>12.289703</td>\n",
       "    </tr>\n",
       "    <tr>\n",
       "      <th>7558</th>\n",
       "      <td>16.358754</td>\n",
       "      <td>13.358196</td>\n",
       "      <td>13.623811</td>\n",
       "      <td>8.427496</td>\n",
       "      <td>5.741776</td>\n",
       "      <td>11.109682</td>\n",
       "      <td>11.480553</td>\n",
       "      <td>11.846152</td>\n",
       "      <td>10.697699</td>\n",
       "      <td>4.180265</td>\n",
       "      <td>...</td>\n",
       "      <td>5.443153</td>\n",
       "      <td>11.062283</td>\n",
       "      <td>9.150143</td>\n",
       "      <td>8.179165</td>\n",
       "      <td>8.020696</td>\n",
       "      <td>5.981491</td>\n",
       "      <td>3.331775</td>\n",
       "      <td>5.219318</td>\n",
       "      <td>8.600616</td>\n",
       "      <td>12.278025</td>\n",
       "    </tr>\n",
       "    <tr>\n",
       "      <th>7559</th>\n",
       "      <td>16.264820</td>\n",
       "      <td>13.438894</td>\n",
       "      <td>13.613806</td>\n",
       "      <td>8.449043</td>\n",
       "      <td>5.715712</td>\n",
       "      <td>11.164809</td>\n",
       "      <td>11.474289</td>\n",
       "      <td>11.736466</td>\n",
       "      <td>10.675362</td>\n",
       "      <td>4.201041</td>\n",
       "      <td>...</td>\n",
       "      <td>5.386724</td>\n",
       "      <td>11.101020</td>\n",
       "      <td>9.067925</td>\n",
       "      <td>8.196629</td>\n",
       "      <td>7.991671</td>\n",
       "      <td>5.959506</td>\n",
       "      <td>3.321376</td>\n",
       "      <td>5.218897</td>\n",
       "      <td>8.607655</td>\n",
       "      <td>12.269195</td>\n",
       "    </tr>\n",
       "    <tr>\n",
       "      <th>7560</th>\n",
       "      <td>16.137101</td>\n",
       "      <td>13.634169</td>\n",
       "      <td>13.551201</td>\n",
       "      <td>8.462873</td>\n",
       "      <td>5.738135</td>\n",
       "      <td>11.247218</td>\n",
       "      <td>11.405775</td>\n",
       "      <td>11.887359</td>\n",
       "      <td>10.615058</td>\n",
       "      <td>4.204168</td>\n",
       "      <td>...</td>\n",
       "      <td>5.415750</td>\n",
       "      <td>11.157832</td>\n",
       "      <td>9.116544</td>\n",
       "      <td>8.239129</td>\n",
       "      <td>7.973896</td>\n",
       "      <td>5.971890</td>\n",
       "      <td>3.300842</td>\n",
       "      <td>5.173405</td>\n",
       "      <td>8.473708</td>\n",
       "      <td>12.315226</td>\n",
       "    </tr>\n",
       "  </tbody>\n",
       "</table>\n",
       "<p>7561 rows × 500 columns</p>\n",
       "</div>"
      ],
      "text/plain": [
       "            0          1          2         3         4          5    \\\n",
       "0      1.000000   1.000000   1.000000  1.000000  1.000000   1.000000   \n",
       "1      0.999148   0.996703   1.015166  1.011853  1.004084   1.015958   \n",
       "2      0.984009   1.005494   1.016721  1.013801  1.019311   1.021327   \n",
       "3      0.987933   1.005688   1.016058  1.005873  1.030041   1.025543   \n",
       "4      0.990642   0.993407   1.020898  1.004538  1.018936   1.025752   \n",
       "...         ...        ...        ...       ...       ...        ...   \n",
       "7556  16.207090  13.350038  13.503973  8.549174  5.759399  11.096356   \n",
       "7557  16.375400  13.417660  13.559949  8.477168  5.784881  11.135082   \n",
       "7558  16.358754  13.358196  13.623811  8.427496  5.741776  11.109682   \n",
       "7559  16.264820  13.438894  13.613806  8.449043  5.715712  11.164809   \n",
       "7560  16.137101  13.634169  13.551201  8.462873  5.738135  11.247218   \n",
       "\n",
       "            6          7          8         9    ...       490        491  \\\n",
       "0      1.000000   1.000000   1.000000  1.000000  ...  1.000000   1.000000   \n",
       "1      1.005058   0.989908   1.000888  0.994267  ...  0.993398   1.008738   \n",
       "2      1.003071   0.984215   1.005318  0.996617  ...  0.999033   1.006718   \n",
       "3      1.014577   0.977479   1.015043  0.992712  ...  1.008420   1.003239   \n",
       "4      1.003768   0.967674   1.017642  0.991370  ...  1.008272   1.011809   \n",
       "...         ...        ...        ...       ...  ...       ...        ...   \n",
       "7556  11.327438  11.861646  10.623393  4.204096  ...  5.394749  11.165269   \n",
       "7557  11.437082  11.827710  10.658344  4.179770  ...  5.421673  10.994379   \n",
       "7558  11.480553  11.846152  10.697699  4.180265  ...  5.443153  11.062283   \n",
       "7559  11.474289  11.736466  10.675362  4.201041  ...  5.386724  11.101020   \n",
       "7560  11.405775  11.887359  10.615058  4.204168  ...  5.415750  11.157832   \n",
       "\n",
       "           492       493       494       495       496       497       498  \\\n",
       "0     1.000000  1.000000  1.000000  1.000000  1.000000  1.000000  1.000000   \n",
       "1     0.997391  1.002585  1.002501  1.007643  1.002763  0.998564  1.006621   \n",
       "2     1.010949  1.013843  0.994135  1.019069  0.992164  1.001965  1.004215   \n",
       "3     1.001351  1.013183  0.994400  1.005377  1.001035  1.004245  1.002636   \n",
       "4     1.011033  0.998670  0.998335  1.008745  1.001264  0.992734  0.998450   \n",
       "...        ...       ...       ...       ...       ...       ...       ...   \n",
       "7556  9.221369  8.209287  8.050336  6.025384  3.205371  5.233706  8.536530   \n",
       "7557  9.108555  8.273580  7.983398  5.984232  3.285749  5.193006  8.563756   \n",
       "7558  9.150143  8.179165  8.020696  5.981491  3.331775  5.219318  8.600616   \n",
       "7559  9.067925  8.196629  7.991671  5.959506  3.321376  5.218897  8.607655   \n",
       "7560  9.116544  8.239129  7.973896  5.971890  3.300842  5.173405  8.473708   \n",
       "\n",
       "            499  \n",
       "0      1.000000  \n",
       "1      0.996776  \n",
       "2      0.991145  \n",
       "3      1.006822  \n",
       "4      1.011793  \n",
       "...         ...  \n",
       "7556  12.255613  \n",
       "7557  12.289703  \n",
       "7558  12.278025  \n",
       "7559  12.269195  \n",
       "7560  12.315226  \n",
       "\n",
       "[7561 rows x 500 columns]"
      ]
     },
     "execution_count": 120,
     "metadata": {},
     "output_type": "execute_result"
    }
   ],
   "source": [
    "# Run the Monte Carlo simulation to forecast 30 years cumulative returns\n",
    "# YOUR CODE HERE\n",
    "MC_thirtyyear.calc_cumulative_return()\n"
   ]
  },
  {
   "cell_type": "code",
   "execution_count": 136,
   "metadata": {},
   "outputs": [
    {
     "data": {
      "image/png": "[encoded data removed]",
      "text/plain": [
       "<Figure size 432x288 with 1 Axes>"
      ]
     },
     "metadata": {
      "needs_background": "light"
     },
     "output_type": "display_data"
    }
   ],
   "source": [
    "# Visualize the 30-year Monte Carlo simulation by creating an\n",
    "# overlay line plot\n",
    "# YOUR CODE HERE\n",
    "# Plot simulation outcomes\n",
    "MC_sim_line_plot = MC_thirtyyear.plot_simulation()\n",
    "\n",
    "# Save the plot for future use\n",
    "MC_sim_line_plot.get_figure().savefig(\"MC_thirtyyear_sim_plot.png\", bbox_inches=\"tight\")\n"
   ]
  },
  {
   "cell_type": "markdown",
   "metadata": {},
   "source": [
    "#### Step 3: Plot the probability distribution of the Monte Carlo simulation."
   ]
  },
  {
   "cell_type": "markdown",
   "metadata": {
    "tags": []
   },
   "source": [
    "# Visualize the probability distribution of the 30-year Monte Carlo simulation \n",
    "# by plotting a histogram\n",
    "# YOUR CODE HERE\n",
    "# Plot probability distribution and confidence intervals\n",
    "MC_sim_dist_plot = MC_thirtyyear.plot_distribution()\n",
    "\n",
    "# Save the plot for future use\n",
    "MC_sim_dist_plot.get_figure().savefig('MC_thirtyyear_dist_plot.png',bbox_inches='tight')\n"
   ]
  },
  {
   "cell_type": "code",
   "execution_count": null,
   "metadata": {
    "tags": []
   },
   "outputs": [],
   "source": [
    "#### Step 4: Generate the summary statistics for the Monte Carlo simulation."
   ]
  },
  {
   "cell_type": "code",
   "execution_count": null,
   "metadata": {},
   "outputs": [],
   "source": [
    "# Generate summary statistics from the 30-year Monte Carlo simulation results\n",
    "# Save the results as a variable\n",
    "# YOUR CODE HERE\n",
    "MC_summary_statistics = MC_thirtyyear.summarize_cumulative_return()\n",
    "\n",
    "# Review the 30-year Monte Carlo summary statistics\n",
    "# YOUR CODE HERE\n",
    "print(MC_summary_statistics)"
   ]
  },
  {
   "cell_type": "code",
   "execution_count": null,
   "metadata": {},
   "outputs": [],
   "source": [
    "### Analyze the Retirement Portfolio Forecasts\n",
    "\n",
    "Using the current value of only the stock and bond portion of the member's portfolio and the summary statistics that you generated from the Monte Carlo simulation, answer the following question in your Jupyter notebook:\n",
    "\n",
    "-  What are the lower and upper bounds for the expected value of the portfolio with a 95% confidence interval?\n"
   ]
  },
  {
   "cell_type": "code",
   "execution_count": 124,
   "metadata": {},
   "outputs": [
    {
     "name": "stdout",
     "output_type": "stream",
     "text": [
      "60689.5\n"
     ]
    }
   ],
   "source": [
    "# Print the current balance of the stock and bond portion of the members portfolio\n",
    "# YOUR CODE HERE\n",
    "total_stocks_bonds \n",
    "print(total_stocks_bonds)\n"
   ]
  },
  {
   "cell_type": "code",
   "execution_count": 125,
   "metadata": {},
   "outputs": [
    {
     "name": "stdout",
     "output_type": "stream",
     "text": [
      "There is a 95% chance that an initial investment of $60889.5 in the portfolio over the next 30 years will end within in the range of $ 174968.85 and $ 1707438.69.\n"
     ]
    }
   ],
   "source": [
    "# Use the lower and upper `95%` confidence intervals to calculate the range of the possible outcomes for the current stock/bond portfolio\n",
    "ci_lower_thirty_cumulative_return = MC_summary_statistics[8] * 60889.5\n",
    "ci_upper_thirty_cumulative_return = MC_summary_statistics[9] * 60889.5\n",
    "\n",
    "# Print the result of your calculations\n",
    "# YOUR CODE HERE\n",
    "print(f\"There is a 95% chance that an initial investment of $60889.5 in the portfolio\"\n",
    "    f\" over the next 30 years will end within in the range of\"\n",
    "    f\" ${ci_lower_thirty_cumulative_return: .2f} and ${ci_upper_thirty_cumulative_return: .2f}.\")\n"
   ]
  },
  {
   "cell_type": "markdown",
   "metadata": {},
   "source": [
    "### Forecast Cumulative Returns in 10 Years\n",
    "\n",
    "The CTO of the credit union is impressed with your work on these planning tools but wonders if 30 years is a long time to wait until retirement. So, your next task is to adjust the retirement portfolio and run a new Monte Carlo simulation to find out if the changes will allow members to retire earlier.\n",
    "\n",
    "For this new Monte Carlo simulation, do the following: \n",
    "\n",
    "- Forecast the cumulative returns for 10 years from now. Because of the shortened investment horizon (30 years to 10 years), the portfolio needs to invest more heavily in the riskier asset&mdash;that is, stock&mdash;to help accumulate wealth for retirement. \n",
    "\n",
    "- Adjust the weights of the retirement portfolio so that the composition for the Monte Carlo simulation consists of 20% bonds and 80% stocks. \n",
    "\n",
    "- Run the simulation over 500 samples, and use the same data that the API call to Alpaca generated.\n",
    "\n",
    "- Based on the new Monte Carlo simulation, answer the following questions in your Jupyter notebook:\n",
    "\n",
    "    - Using the current value of only the stock and bond portion of the member's portfolio and the summary statistics that you generated from the new Monte Carlo simulation, what are the lower and upper bounds for the expected value of the portfolio (with the new weights) with a 95% confidence interval?\n",
    "\n",
    "    - Will weighting the portfolio more heavily toward stocks allow the credit union members to retire after only 10 years?\n"
   ]
  },
  {
   "cell_type": "code",
   "execution_count": 83,
   "metadata": {},
   "outputs": [
    {
     "data": {
      "text/plain": [
       "(100, 10)"
      ]
     },
     "execution_count": 83,
     "metadata": {},
     "output_type": "execute_result"
    }
   ],
   "source": [
    "prices_df.shape"
   ]
  },
  {
   "cell_type": "code",
   "execution_count": 126,
   "metadata": {},
   "outputs": [
    {
     "data": {
      "text/html": [
       "<div>\n",
       "<style scoped>\n",
       "    .dataframe tbody tr th:only-of-type {\n",
       "        vertical-align: middle;\n",
       "    }\n",
       "\n",
       "    .dataframe tbody tr th {\n",
       "        vertical-align: top;\n",
       "    }\n",
       "\n",
       "    .dataframe thead tr th {\n",
       "        text-align: left;\n",
       "    }\n",
       "\n",
       "    .dataframe thead tr:last-of-type th {\n",
       "        text-align: right;\n",
       "    }\n",
       "</style>\n",
       "<table border=\"1\" class=\"dataframe\">\n",
       "  <thead>\n",
       "    <tr>\n",
       "      <th></th>\n",
       "      <th colspan=\"6\" halign=\"left\">AGG</th>\n",
       "      <th colspan=\"6\" halign=\"left\">SPY</th>\n",
       "    </tr>\n",
       "    <tr>\n",
       "      <th></th>\n",
       "      <th>open</th>\n",
       "      <th>high</th>\n",
       "      <th>low</th>\n",
       "      <th>close</th>\n",
       "      <th>volume</th>\n",
       "      <th>daily_return</th>\n",
       "      <th>open</th>\n",
       "      <th>high</th>\n",
       "      <th>low</th>\n",
       "      <th>close</th>\n",
       "      <th>volume</th>\n",
       "      <th>daily_return</th>\n",
       "    </tr>\n",
       "    <tr>\n",
       "      <th>time</th>\n",
       "      <th></th>\n",
       "      <th></th>\n",
       "      <th></th>\n",
       "      <th></th>\n",
       "      <th></th>\n",
       "      <th></th>\n",
       "      <th></th>\n",
       "      <th></th>\n",
       "      <th></th>\n",
       "      <th></th>\n",
       "      <th></th>\n",
       "      <th></th>\n",
       "    </tr>\n",
       "  </thead>\n",
       "  <tbody>\n",
       "    <tr>\n",
       "      <th>2010-08-09 00:00:00-04:00</th>\n",
       "      <td>107.66</td>\n",
       "      <td>107.680</td>\n",
       "      <td>107.53</td>\n",
       "      <td>107.63</td>\n",
       "      <td>478988.0</td>\n",
       "      <td>NaN</td>\n",
       "      <td>112.92</td>\n",
       "      <td>113.18</td>\n",
       "      <td>112.3200</td>\n",
       "      <td>112.9801</td>\n",
       "      <td>89387651.0</td>\n",
       "      <td>NaN</td>\n",
       "    </tr>\n",
       "    <tr>\n",
       "      <th>2010-08-10 00:00:00-04:00</th>\n",
       "      <td>107.63</td>\n",
       "      <td>107.920</td>\n",
       "      <td>107.56</td>\n",
       "      <td>107.83</td>\n",
       "      <td>532447.0</td>\n",
       "      <td>0.001858</td>\n",
       "      <td>112.03</td>\n",
       "      <td>112.98</td>\n",
       "      <td>111.3701</td>\n",
       "      <td>112.4200</td>\n",
       "      <td>202262432.0</td>\n",
       "      <td>-0.004958</td>\n",
       "    </tr>\n",
       "    <tr>\n",
       "      <th>2010-08-11 00:00:00-04:00</th>\n",
       "      <td>107.91</td>\n",
       "      <td>107.956</td>\n",
       "      <td>107.79</td>\n",
       "      <td>107.91</td>\n",
       "      <td>665686.0</td>\n",
       "      <td>0.000742</td>\n",
       "      <td>110.65</td>\n",
       "      <td>110.69</td>\n",
       "      <td>109.1200</td>\n",
       "      <td>109.2901</td>\n",
       "      <td>223970698.0</td>\n",
       "      <td>-0.027841</td>\n",
       "    </tr>\n",
       "    <tr>\n",
       "      <th>2010-08-12 00:00:00-04:00</th>\n",
       "      <td>107.93</td>\n",
       "      <td>107.980</td>\n",
       "      <td>107.67</td>\n",
       "      <td>107.74</td>\n",
       "      <td>640614.0</td>\n",
       "      <td>-0.001575</td>\n",
       "      <td>107.64</td>\n",
       "      <td>109.02</td>\n",
       "      <td>107.6000</td>\n",
       "      <td>108.6400</td>\n",
       "      <td>190434932.0</td>\n",
       "      <td>-0.005948</td>\n",
       "    </tr>\n",
       "    <tr>\n",
       "      <th>2010-08-13 00:00:00-04:00</th>\n",
       "      <td>107.77</td>\n",
       "      <td>108.000</td>\n",
       "      <td>107.67</td>\n",
       "      <td>108.00</td>\n",
       "      <td>563778.0</td>\n",
       "      <td>0.002413</td>\n",
       "      <td>108.29</td>\n",
       "      <td>108.96</td>\n",
       "      <td>108.1800</td>\n",
       "      <td>108.3000</td>\n",
       "      <td>130664078.0</td>\n",
       "      <td>-0.003130</td>\n",
       "    </tr>\n",
       "  </tbody>\n",
       "</table>\n",
       "</div>"
      ],
      "text/plain": [
       "                              AGG                                     \\\n",
       "                             open     high     low   close    volume   \n",
       "time                                                                   \n",
       "2010-08-09 00:00:00-04:00  107.66  107.680  107.53  107.63  478988.0   \n",
       "2010-08-10 00:00:00-04:00  107.63  107.920  107.56  107.83  532447.0   \n",
       "2010-08-11 00:00:00-04:00  107.91  107.956  107.79  107.91  665686.0   \n",
       "2010-08-12 00:00:00-04:00  107.93  107.980  107.67  107.74  640614.0   \n",
       "2010-08-13 00:00:00-04:00  107.77  108.000  107.67  108.00  563778.0   \n",
       "\n",
       "                                           SPY                              \\\n",
       "                          daily_return    open    high       low     close   \n",
       "time                                                                         \n",
       "2010-08-09 00:00:00-04:00          NaN  112.92  113.18  112.3200  112.9801   \n",
       "2010-08-10 00:00:00-04:00     0.001858  112.03  112.98  111.3701  112.4200   \n",
       "2010-08-11 00:00:00-04:00     0.000742  110.65  110.69  109.1200  109.2901   \n",
       "2010-08-12 00:00:00-04:00    -0.001575  107.64  109.02  107.6000  108.6400   \n",
       "2010-08-13 00:00:00-04:00     0.002413  108.29  108.96  108.1800  108.3000   \n",
       "\n",
       "                                                     \n",
       "                                volume daily_return  \n",
       "time                                                 \n",
       "2010-08-09 00:00:00-04:00   89387651.0          NaN  \n",
       "2010-08-10 00:00:00-04:00  202262432.0    -0.004958  \n",
       "2010-08-11 00:00:00-04:00  223970698.0    -0.027841  \n",
       "2010-08-12 00:00:00-04:00  190434932.0    -0.005948  \n",
       "2010-08-13 00:00:00-04:00  130664078.0    -0.003130  "
      ]
     },
     "execution_count": 126,
     "metadata": {},
     "output_type": "execute_result"
    }
   ],
   "source": [
    "# Configure a Monte Carlo simulation to forecast 10 years cumulative returns\n",
    "# The weights should be split 20% to AGG and 80% to SPY.\n",
    "# Run 500 samples.\n",
    "# YOUR CODE HERE\n",
    "MC_tenyear = MCSimulation(\n",
    "    portfolio_data = full_10_year_prices_df,\n",
    "    weights = [.20,.80],\n",
    "    num_simulation = 500,\n",
    "    num_trading_days = 252*10\n",
    ")\n",
    "\n",
    "# Review the simulation input data\n",
    "# YOUR CODE HERE\n",
    "MC_tenyear.portfolio_data.head()\n",
    "\n",
    "\n",
    "\n"
   ]
  },
  {
   "cell_type": "code",
   "execution_count": 128,
   "metadata": {},
   "outputs": [
    {
     "name": "stdout",
     "output_type": "stream",
     "text": [
      "Running Monte Carlo simulation number 0.\n",
      "Running Monte Carlo simulation number 10.\n",
      "Running Monte Carlo simulation number 20.\n",
      "Running Monte Carlo simulation number 30.\n",
      "Running Monte Carlo simulation number 40.\n",
      "Running Monte Carlo simulation number 50.\n",
      "Running Monte Carlo simulation number 60.\n",
      "Running Monte Carlo simulation number 70.\n",
      "Running Monte Carlo simulation number 80.\n",
      "Running Monte Carlo simulation number 90.\n",
      "Running Monte Carlo simulation number 100.\n",
      "Running Monte Carlo simulation number 110.\n",
      "Running Monte Carlo simulation number 120.\n",
      "Running Monte Carlo simulation number 130.\n",
      "Running Monte Carlo simulation number 140.\n",
      "Running Monte Carlo simulation number 150.\n",
      "Running Monte Carlo simulation number 160.\n",
      "Running Monte Carlo simulation number 170.\n",
      "Running Monte Carlo simulation number 180.\n",
      "Running Monte Carlo simulation number 190.\n",
      "Running Monte Carlo simulation number 200.\n",
      "Running Monte Carlo simulation number 210.\n",
      "Running Monte Carlo simulation number 220.\n",
      "Running Monte Carlo simulation number 230.\n",
      "Running Monte Carlo simulation number 240.\n",
      "Running Monte Carlo simulation number 250.\n",
      "Running Monte Carlo simulation number 260.\n",
      "Running Monte Carlo simulation number 270.\n",
      "Running Monte Carlo simulation number 280.\n",
      "Running Monte Carlo simulation number 290.\n",
      "Running Monte Carlo simulation number 300.\n",
      "Running Monte Carlo simulation number 310.\n",
      "Running Monte Carlo simulation number 320.\n",
      "Running Monte Carlo simulation number 330.\n",
      "Running Monte Carlo simulation number 340.\n",
      "Running Monte Carlo simulation number 350.\n",
      "Running Monte Carlo simulation number 360.\n",
      "Running Monte Carlo simulation number 370.\n",
      "Running Monte Carlo simulation number 380.\n",
      "Running Monte Carlo simulation number 390.\n",
      "Running Monte Carlo simulation number 400.\n",
      "Running Monte Carlo simulation number 410.\n",
      "Running Monte Carlo simulation number 420.\n",
      "Running Monte Carlo simulation number 430.\n",
      "Running Monte Carlo simulation number 440.\n",
      "Running Monte Carlo simulation number 450.\n",
      "Running Monte Carlo simulation number 460.\n",
      "Running Monte Carlo simulation number 470.\n",
      "Running Monte Carlo simulation number 480.\n",
      "Running Monte Carlo simulation number 490.\n"
     ]
    },
    {
     "data": {
      "text/html": [
       "<div>\n",
       "<style scoped>\n",
       "    .dataframe tbody tr th:only-of-type {\n",
       "        vertical-align: middle;\n",
       "    }\n",
       "\n",
       "    .dataframe tbody tr th {\n",
       "        vertical-align: top;\n",
       "    }\n",
       "\n",
       "    .dataframe thead th {\n",
       "        text-align: right;\n",
       "    }\n",
       "</style>\n",
       "<table border=\"1\" class=\"dataframe\">\n",
       "  <thead>\n",
       "    <tr style=\"text-align: right;\">\n",
       "      <th></th>\n",
       "      <th>0</th>\n",
       "      <th>1</th>\n",
       "      <th>2</th>\n",
       "      <th>3</th>\n",
       "      <th>4</th>\n",
       "      <th>5</th>\n",
       "      <th>6</th>\n",
       "      <th>7</th>\n",
       "      <th>8</th>\n",
       "      <th>9</th>\n",
       "      <th>...</th>\n",
       "      <th>490</th>\n",
       "      <th>491</th>\n",
       "      <th>492</th>\n",
       "      <th>493</th>\n",
       "      <th>494</th>\n",
       "      <th>495</th>\n",
       "      <th>496</th>\n",
       "      <th>497</th>\n",
       "      <th>498</th>\n",
       "      <th>499</th>\n",
       "    </tr>\n",
       "  </thead>\n",
       "  <tbody>\n",
       "    <tr>\n",
       "      <th>0</th>\n",
       "      <td>1.000000</td>\n",
       "      <td>1.000000</td>\n",
       "      <td>1.000000</td>\n",
       "      <td>1.000000</td>\n",
       "      <td>1.000000</td>\n",
       "      <td>1.000000</td>\n",
       "      <td>1.000000</td>\n",
       "      <td>1.000000</td>\n",
       "      <td>1.000000</td>\n",
       "      <td>1.000000</td>\n",
       "      <td>...</td>\n",
       "      <td>1.000000</td>\n",
       "      <td>1.000000</td>\n",
       "      <td>1.000000</td>\n",
       "      <td>1.000000</td>\n",
       "      <td>1.000000</td>\n",
       "      <td>1.000000</td>\n",
       "      <td>1.000000</td>\n",
       "      <td>1.000000</td>\n",
       "      <td>1.000000</td>\n",
       "      <td>1.000000</td>\n",
       "    </tr>\n",
       "    <tr>\n",
       "      <th>1</th>\n",
       "      <td>0.988212</td>\n",
       "      <td>0.996151</td>\n",
       "      <td>0.997190</td>\n",
       "      <td>0.999640</td>\n",
       "      <td>1.013736</td>\n",
       "      <td>0.993107</td>\n",
       "      <td>1.004630</td>\n",
       "      <td>1.013655</td>\n",
       "      <td>0.996145</td>\n",
       "      <td>0.983243</td>\n",
       "      <td>...</td>\n",
       "      <td>1.016891</td>\n",
       "      <td>0.994783</td>\n",
       "      <td>0.998907</td>\n",
       "      <td>1.000670</td>\n",
       "      <td>0.999041</td>\n",
       "      <td>1.003106</td>\n",
       "      <td>1.002404</td>\n",
       "      <td>0.995943</td>\n",
       "      <td>0.990654</td>\n",
       "      <td>1.002461</td>\n",
       "    </tr>\n",
       "    <tr>\n",
       "      <th>2</th>\n",
       "      <td>0.991491</td>\n",
       "      <td>0.999968</td>\n",
       "      <td>1.009882</td>\n",
       "      <td>1.014580</td>\n",
       "      <td>1.013150</td>\n",
       "      <td>0.998414</td>\n",
       "      <td>1.007985</td>\n",
       "      <td>1.011379</td>\n",
       "      <td>0.989698</td>\n",
       "      <td>0.977639</td>\n",
       "      <td>...</td>\n",
       "      <td>1.010774</td>\n",
       "      <td>0.989186</td>\n",
       "      <td>0.990850</td>\n",
       "      <td>1.006027</td>\n",
       "      <td>0.996146</td>\n",
       "      <td>1.008517</td>\n",
       "      <td>0.989525</td>\n",
       "      <td>1.002951</td>\n",
       "      <td>0.991253</td>\n",
       "      <td>1.014997</td>\n",
       "    </tr>\n",
       "    <tr>\n",
       "      <th>3</th>\n",
       "      <td>0.989981</td>\n",
       "      <td>0.992311</td>\n",
       "      <td>1.007325</td>\n",
       "      <td>1.008770</td>\n",
       "      <td>1.015396</td>\n",
       "      <td>1.008973</td>\n",
       "      <td>1.013235</td>\n",
       "      <td>1.019396</td>\n",
       "      <td>0.993154</td>\n",
       "      <td>0.974320</td>\n",
       "      <td>...</td>\n",
       "      <td>1.003518</td>\n",
       "      <td>0.991073</td>\n",
       "      <td>0.991693</td>\n",
       "      <td>1.011843</td>\n",
       "      <td>1.007856</td>\n",
       "      <td>1.006874</td>\n",
       "      <td>0.989633</td>\n",
       "      <td>1.011426</td>\n",
       "      <td>0.993387</td>\n",
       "      <td>1.022618</td>\n",
       "    </tr>\n",
       "    <tr>\n",
       "      <th>4</th>\n",
       "      <td>0.994831</td>\n",
       "      <td>0.995401</td>\n",
       "      <td>1.004443</td>\n",
       "      <td>1.014173</td>\n",
       "      <td>0.998268</td>\n",
       "      <td>1.008369</td>\n",
       "      <td>0.996662</td>\n",
       "      <td>1.024131</td>\n",
       "      <td>0.998843</td>\n",
       "      <td>0.977534</td>\n",
       "      <td>...</td>\n",
       "      <td>1.012269</td>\n",
       "      <td>0.974634</td>\n",
       "      <td>0.991593</td>\n",
       "      <td>1.015194</td>\n",
       "      <td>0.991400</td>\n",
       "      <td>0.999048</td>\n",
       "      <td>0.985849</td>\n",
       "      <td>1.039435</td>\n",
       "      <td>0.993580</td>\n",
       "      <td>1.035753</td>\n",
       "    </tr>\n",
       "    <tr>\n",
       "      <th>...</th>\n",
       "      <td>...</td>\n",
       "      <td>...</td>\n",
       "      <td>...</td>\n",
       "      <td>...</td>\n",
       "      <td>...</td>\n",
       "      <td>...</td>\n",
       "      <td>...</td>\n",
       "      <td>...</td>\n",
       "      <td>...</td>\n",
       "      <td>...</td>\n",
       "      <td>...</td>\n",
       "      <td>...</td>\n",
       "      <td>...</td>\n",
       "      <td>...</td>\n",
       "      <td>...</td>\n",
       "      <td>...</td>\n",
       "      <td>...</td>\n",
       "      <td>...</td>\n",
       "      <td>...</td>\n",
       "      <td>...</td>\n",
       "      <td>...</td>\n",
       "    </tr>\n",
       "    <tr>\n",
       "      <th>2516</th>\n",
       "      <td>2.704655</td>\n",
       "      <td>2.800106</td>\n",
       "      <td>2.732383</td>\n",
       "      <td>2.248766</td>\n",
       "      <td>2.052998</td>\n",
       "      <td>3.422236</td>\n",
       "      <td>0.914081</td>\n",
       "      <td>1.570254</td>\n",
       "      <td>3.659692</td>\n",
       "      <td>2.466434</td>\n",
       "      <td>...</td>\n",
       "      <td>2.783277</td>\n",
       "      <td>2.865324</td>\n",
       "      <td>3.110245</td>\n",
       "      <td>2.431612</td>\n",
       "      <td>2.931116</td>\n",
       "      <td>2.520898</td>\n",
       "      <td>2.747666</td>\n",
       "      <td>3.372653</td>\n",
       "      <td>2.179852</td>\n",
       "      <td>1.710268</td>\n",
       "    </tr>\n",
       "    <tr>\n",
       "      <th>2517</th>\n",
       "      <td>2.695258</td>\n",
       "      <td>2.775946</td>\n",
       "      <td>2.757280</td>\n",
       "      <td>2.237706</td>\n",
       "      <td>2.046376</td>\n",
       "      <td>3.431175</td>\n",
       "      <td>0.917660</td>\n",
       "      <td>1.585456</td>\n",
       "      <td>3.704241</td>\n",
       "      <td>2.434598</td>\n",
       "      <td>...</td>\n",
       "      <td>2.820709</td>\n",
       "      <td>2.846165</td>\n",
       "      <td>3.097593</td>\n",
       "      <td>2.447877</td>\n",
       "      <td>2.911411</td>\n",
       "      <td>2.492756</td>\n",
       "      <td>2.733297</td>\n",
       "      <td>3.351840</td>\n",
       "      <td>2.206449</td>\n",
       "      <td>1.707244</td>\n",
       "    </tr>\n",
       "    <tr>\n",
       "      <th>2518</th>\n",
       "      <td>2.707003</td>\n",
       "      <td>2.760899</td>\n",
       "      <td>2.767235</td>\n",
       "      <td>2.259171</td>\n",
       "      <td>2.066367</td>\n",
       "      <td>3.424602</td>\n",
       "      <td>0.934395</td>\n",
       "      <td>1.583110</td>\n",
       "      <td>3.723179</td>\n",
       "      <td>2.392852</td>\n",
       "      <td>...</td>\n",
       "      <td>2.835662</td>\n",
       "      <td>2.816923</td>\n",
       "      <td>3.065941</td>\n",
       "      <td>2.452113</td>\n",
       "      <td>2.912124</td>\n",
       "      <td>2.485439</td>\n",
       "      <td>2.694632</td>\n",
       "      <td>3.397662</td>\n",
       "      <td>2.195120</td>\n",
       "      <td>1.708871</td>\n",
       "    </tr>\n",
       "    <tr>\n",
       "      <th>2519</th>\n",
       "      <td>2.727222</td>\n",
       "      <td>2.763477</td>\n",
       "      <td>2.808976</td>\n",
       "      <td>2.253188</td>\n",
       "      <td>2.076367</td>\n",
       "      <td>3.430888</td>\n",
       "      <td>0.935963</td>\n",
       "      <td>1.601915</td>\n",
       "      <td>3.774584</td>\n",
       "      <td>2.383705</td>\n",
       "      <td>...</td>\n",
       "      <td>2.849730</td>\n",
       "      <td>2.846311</td>\n",
       "      <td>3.012990</td>\n",
       "      <td>2.485878</td>\n",
       "      <td>2.889102</td>\n",
       "      <td>2.457943</td>\n",
       "      <td>2.672055</td>\n",
       "      <td>3.410394</td>\n",
       "      <td>2.177581</td>\n",
       "      <td>1.688961</td>\n",
       "    </tr>\n",
       "    <tr>\n",
       "      <th>2520</th>\n",
       "      <td>2.715904</td>\n",
       "      <td>2.767475</td>\n",
       "      <td>2.811302</td>\n",
       "      <td>2.245442</td>\n",
       "      <td>2.090008</td>\n",
       "      <td>3.418595</td>\n",
       "      <td>0.941530</td>\n",
       "      <td>1.592839</td>\n",
       "      <td>3.788804</td>\n",
       "      <td>2.380036</td>\n",
       "      <td>...</td>\n",
       "      <td>2.823649</td>\n",
       "      <td>2.858832</td>\n",
       "      <td>2.992900</td>\n",
       "      <td>2.479587</td>\n",
       "      <td>2.836713</td>\n",
       "      <td>2.474463</td>\n",
       "      <td>2.689320</td>\n",
       "      <td>3.424641</td>\n",
       "      <td>2.199333</td>\n",
       "      <td>1.674626</td>\n",
       "    </tr>\n",
       "  </tbody>\n",
       "</table>\n",
       "<p>2521 rows × 500 columns</p>\n",
       "</div>"
      ],
      "text/plain": [
       "           0         1         2         3         4         5         6    \\\n",
       "0     1.000000  1.000000  1.000000  1.000000  1.000000  1.000000  1.000000   \n",
       "1     0.988212  0.996151  0.997190  0.999640  1.013736  0.993107  1.004630   \n",
       "2     0.991491  0.999968  1.009882  1.014580  1.013150  0.998414  1.007985   \n",
       "3     0.989981  0.992311  1.007325  1.008770  1.015396  1.008973  1.013235   \n",
       "4     0.994831  0.995401  1.004443  1.014173  0.998268  1.008369  0.996662   \n",
       "...        ...       ...       ...       ...       ...       ...       ...   \n",
       "2516  2.704655  2.800106  2.732383  2.248766  2.052998  3.422236  0.914081   \n",
       "2517  2.695258  2.775946  2.757280  2.237706  2.046376  3.431175  0.917660   \n",
       "2518  2.707003  2.760899  2.767235  2.259171  2.066367  3.424602  0.934395   \n",
       "2519  2.727222  2.763477  2.808976  2.253188  2.076367  3.430888  0.935963   \n",
       "2520  2.715904  2.767475  2.811302  2.245442  2.090008  3.418595  0.941530   \n",
       "\n",
       "           7         8         9    ...       490       491       492  \\\n",
       "0     1.000000  1.000000  1.000000  ...  1.000000  1.000000  1.000000   \n",
       "1     1.013655  0.996145  0.983243  ...  1.016891  0.994783  0.998907   \n",
       "2     1.011379  0.989698  0.977639  ...  1.010774  0.989186  0.990850   \n",
       "3     1.019396  0.993154  0.974320  ...  1.003518  0.991073  0.991693   \n",
       "4     1.024131  0.998843  0.977534  ...  1.012269  0.974634  0.991593   \n",
       "...        ...       ...       ...  ...       ...       ...       ...   \n",
       "2516  1.570254  3.659692  2.466434  ...  2.783277  2.865324  3.110245   \n",
       "2517  1.585456  3.704241  2.434598  ...  2.820709  2.846165  3.097593   \n",
       "2518  1.583110  3.723179  2.392852  ...  2.835662  2.816923  3.065941   \n",
       "2519  1.601915  3.774584  2.383705  ...  2.849730  2.846311  3.012990   \n",
       "2520  1.592839  3.788804  2.380036  ...  2.823649  2.858832  2.992900   \n",
       "\n",
       "           493       494       495       496       497       498       499  \n",
       "0     1.000000  1.000000  1.000000  1.000000  1.000000  1.000000  1.000000  \n",
       "1     1.000670  0.999041  1.003106  1.002404  0.995943  0.990654  1.002461  \n",
       "2     1.006027  0.996146  1.008517  0.989525  1.002951  0.991253  1.014997  \n",
       "3     1.011843  1.007856  1.006874  0.989633  1.011426  0.993387  1.022618  \n",
       "4     1.015194  0.991400  0.999048  0.985849  1.039435  0.993580  1.035753  \n",
       "...        ...       ...       ...       ...       ...       ...       ...  \n",
       "2516  2.431612  2.931116  2.520898  2.747666  3.372653  2.179852  1.710268  \n",
       "2517  2.447877  2.911411  2.492756  2.733297  3.351840  2.206449  1.707244  \n",
       "2518  2.452113  2.912124  2.485439  2.694632  3.397662  2.195120  1.708871  \n",
       "2519  2.485878  2.889102  2.457943  2.672055  3.410394  2.177581  1.688961  \n",
       "2520  2.479587  2.836713  2.474463  2.689320  3.424641  2.199333  1.674626  \n",
       "\n",
       "[2521 rows x 500 columns]"
      ]
     },
     "execution_count": 128,
     "metadata": {},
     "output_type": "execute_result"
    }
   ],
   "source": [
    "# Run the Monte Carlo simulation to forecast 10 years cumulative returns\n",
    "# YOUR CODE HERE\n",
    "\n",
    "MC_tenyear.calc_cumulative_return()"
   ]
  },
  {
   "cell_type": "code",
   "execution_count": 135,
   "metadata": {},
   "outputs": [
    {
     "data": {
      "image/png": "[encoded data removed]",
      "text/plain": [
       "<Figure size 432x288 with 1 Axes>"
      ]
     },
     "metadata": {
      "needs_background": "light"
     },
     "output_type": "display_data"
    }
   ],
   "source": [
    "# Visualize the 10-year Monte Carlo simulation by creating an\n",
    "# overlay line plot\n",
    "# YOUR CODE HERE\n",
    "MC_sim_line_plot = MC_tenyear.plot_simulation()\n",
    "\n",
    "# Save the plot for future use\n",
    "MC_sim_line_plot.get_figure().savefig(\"MC_tenyyear_sim_plot.png\", bbox_inches=\"tight\")\n"
   ]
  },
  {
   "cell_type": "code",
   "execution_count": 134,
   "metadata": {},
   "outputs": [
    {
     "data": {
      "image/png": "[encoded data removed]",
      "text/plain": [
       "<Figure size 432x288 with 1 Axes>"
      ]
     },
     "metadata": {
      "needs_background": "light"
     },
     "output_type": "display_data"
    }
   ],
   "source": [
    "# Visualize the probability distribution of the 10-year Monte Carlo simulation \n",
    "# by plotting a histogram\n",
    "# YOUR CODE HERE\n",
    "\n",
    "MC_sim_dist_plot_10 = MC_tenyear.plot_distribution()\n",
    "\n",
    "# Save the plot for future use\n",
    "MC_sim_dist_plot_10.get_figure().savefig('MC_tenyear_dist_plot.png',bbox_inches='tight')\n"
   ]
  },
  {
   "cell_type": "code",
   "execution_count": 131,
   "metadata": {},
   "outputs": [
    {
     "name": "stdout",
     "output_type": "stream",
     "text": [
      "count           500.000000\n",
      "mean              2.804596\n",
      "std               1.273566\n",
      "min               0.548116\n",
      "25%               1.938631\n",
      "50%               2.596643\n",
      "75%               3.442207\n",
      "max              10.162473\n",
      "95% CI Lower      1.052012\n",
      "95% CI Upper      5.706514\n",
      "Name: 2520, dtype: float64\n"
     ]
    }
   ],
   "source": [
    "# Generate summary statistics from the 10-year Monte Carlo simulation results\n",
    "# Save the results as a variable\n",
    "# YOUR CODE HERE\n",
    "MC_summary_statistics_10 = MC_tenyear.summarize_cumulative_return()\n",
    "\n",
    "\n",
    "# Review the 10-year Monte Carlo summary statistics\n",
    "# YOUR CODE HERE\n",
    "print(MC_summary_statistics_10)"
   ]
  },
  {
   "cell_type": "markdown",
   "metadata": {},
   "source": [
    "### Answer the following questions:"
   ]
  },
  {
   "cell_type": "markdown",
   "metadata": {},
   "source": [
    "#### Question: Using the current value of only the stock and bond portion of the member's portfolio and the summary statistics that you generated from the new Monte Carlo simulation, what are the lower and upper bounds for the expected value of the portfolio (with the new weights) with a 95% confidence interval?"
   ]
  },
  {
   "cell_type": "code",
   "execution_count": 132,
   "metadata": {},
   "outputs": [
    {
     "name": "stdout",
     "output_type": "stream",
     "text": [
      "60689.5\n"
     ]
    }
   ],
   "source": [
    "# Print the current balance of the stock and bond portion of the members portfolio\n",
    "# YOUR CODE HERE\n",
    "\n",
    "total_stocks_bonds \n",
    "print(total_stocks_bonds)"
   ]
  },
  {
   "cell_type": "code",
   "execution_count": 133,
   "metadata": {},
   "outputs": [
    {
     "name": "stdout",
     "output_type": "stream",
     "text": [
      "There is a 95% chance that an initial investment of $60889.5 in the portfolio over the next 10 years will end within in the range of $ 64056.47 and $ 347466.79.\n"
     ]
    }
   ],
   "source": [
    "# Use the lower and upper `95%` confidence intervals to calculate the range of the possible outcomes for the current stock/bond portfolio\n",
    "ci_lower_ten_cumulative_return = MC_summary_statistics_10[8] * 60889.5\n",
    "ci_upper_ten_cumulative_return = MC_summary_statistics_10[9] * 60889.5\n",
    "\n",
    "\n",
    "# Print the result of your calculations\n",
    "# YOUR CODE HERE\n",
    "print(f\"There is a 95% chance that an initial investment of $60889.5 in the portfolio\"\n",
    "    f\" over the next 10 years will end within in the range of\"\n",
    "    f\" ${ci_lower_ten_cumulative_return: .2f} and ${ci_upper_ten_cumulative_return: .2f}.\")"
   ]
  },
  {
   "cell_type": "markdown",
   "metadata": {},
   "source": [
    "#### Question: Will weighting the portfolio more heavily to stocks allow the credit union members to retire after only 10 years?"
   ]
  },
  {
   "cell_type": "raw",
   "metadata": {},
   "source": [
    "**Answer** # YOUR ANSWER HERE\n",
    " It may not,  given our 10 year past data and the MC simulation over 10 years there is a 95% chance that beginning with an initial investment of $60,689.50 they would have between $64,056.47 and $374,466.79 with a 95% CI. It depends on the age and objetive of the retiree , even in the best case scenario, $374,466.79 may not be enough to retire."
   ]
  },
  {
   "cell_type": "code",
   "execution_count": null,
   "metadata": {},
   "outputs": [],
   "source": []
  }
 ],
 "metadata": {
  "kernelspec": {
   "display_name": "Python 3",
   "language": "python",
   "name": "python3"
  },
  "language_info": {
   "codemirror_mode": {
    "name": "ipython",
    "version": 3
   },
   "file_extension": ".py",
   "mimetype": "text/x-python",
   "name": "python",
   "nbconvert_exporter": "python",
   "pygments_lexer": "ipython3",
   "version": "3.8.8"
  }
 },
 "nbformat": 4,
 "nbformat_minor": 4
}
